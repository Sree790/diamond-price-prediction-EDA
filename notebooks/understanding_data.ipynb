{
 "cells": [
  {
   "cell_type": "markdown",
   "metadata": {},
   "source": [
    "## 1. Load Data"
   ]
  },
  {
   "cell_type": "code",
   "execution_count": 1,
   "metadata": {},
   "outputs": [],
   "source": [
    "import numpy as np\n",
    "import pandas as pd\n",
    "import matplotlib.pyplot as plt\n",
    "import seaborn as sns"
   ]
  },
  {
   "cell_type": "code",
   "execution_count": 2,
   "metadata": {},
   "outputs": [],
   "source": [
    "#Data Loading\n",
    "df = pd.read_csv('../data/raw/diamonds.csv')"
   ]
  },
  {
   "cell_type": "markdown",
   "metadata": {},
   "source": [
    "## 2. Exploring Data"
   ]
  },
  {
   "cell_type": "code",
   "execution_count": 3,
   "metadata": {},
   "outputs": [
    {
     "data": {
      "application/vnd.microsoft.datawrangler.viewer.v0+json": {
       "columns": [
        {
         "name": "index",
         "rawType": "int64",
         "type": "integer"
        },
        {
         "name": "Unnamed: 0",
         "rawType": "int64",
         "type": "integer"
        },
        {
         "name": "cut",
         "rawType": "object",
         "type": "string"
        },
        {
         "name": "color",
         "rawType": "object",
         "type": "string"
        },
        {
         "name": "clarity",
         "rawType": "object",
         "type": "string"
        },
        {
         "name": "carat_weight",
         "rawType": "float64",
         "type": "float"
        },
        {
         "name": "cut_quality",
         "rawType": "object",
         "type": "string"
        },
        {
         "name": "lab",
         "rawType": "object",
         "type": "string"
        },
        {
         "name": "symmetry",
         "rawType": "object",
         "type": "string"
        },
        {
         "name": "polish",
         "rawType": "object",
         "type": "string"
        },
        {
         "name": "eye_clean",
         "rawType": "object",
         "type": "string"
        },
        {
         "name": "culet_size",
         "rawType": "object",
         "type": "string"
        },
        {
         "name": "culet_condition",
         "rawType": "object",
         "type": "string"
        },
        {
         "name": "depth_percent",
         "rawType": "float64",
         "type": "float"
        },
        {
         "name": "table_percent",
         "rawType": "float64",
         "type": "float"
        },
        {
         "name": "meas_length",
         "rawType": "float64",
         "type": "float"
        },
        {
         "name": "meas_width",
         "rawType": "float64",
         "type": "float"
        },
        {
         "name": "meas_depth",
         "rawType": "float64",
         "type": "float"
        },
        {
         "name": "girdle_min",
         "rawType": "object",
         "type": "string"
        },
        {
         "name": "girdle_max",
         "rawType": "object",
         "type": "string"
        },
        {
         "name": "fluor_color",
         "rawType": "object",
         "type": "string"
        },
        {
         "name": "fluor_intensity",
         "rawType": "object",
         "type": "unknown"
        },
        {
         "name": "fancy_color_dominant_color",
         "rawType": "object",
         "type": "string"
        },
        {
         "name": "fancy_color_secondary_color",
         "rawType": "object",
         "type": "string"
        },
        {
         "name": "fancy_color_overtone",
         "rawType": "object",
         "type": "string"
        },
        {
         "name": "fancy_color_intensity",
         "rawType": "object",
         "type": "string"
        },
        {
         "name": "total_sales_price",
         "rawType": "int64",
         "type": "integer"
        }
       ],
       "conversionMethod": "pd.DataFrame",
       "ref": "293149ff-762a-4073-8ed4-7254b1977e47",
       "rows": [
        [
         "0",
         "0",
         "Round",
         "E",
         "VVS2",
         "0.09",
         "Excellent",
         "IGI",
         "Very Good",
         "Very Good",
         "unknown",
         "N",
         "unknown",
         "62.7",
         "59.0",
         "2.85",
         "2.87",
         "1.79",
         "M",
         "M",
         "unknown",
         null,
         "unknown",
         "unknown",
         "unknown",
         "unknown",
         "200"
        ],
        [
         "1",
         "1",
         "Round",
         "E",
         "VVS2",
         "0.09",
         "Very Good",
         "IGI",
         "Very Good",
         "Very Good",
         "unknown",
         "N",
         "unknown",
         "61.9",
         "59.0",
         "2.84",
         "2.89",
         "1.78",
         "STK",
         "STK",
         "unknown",
         null,
         "unknown",
         "unknown",
         "unknown",
         "unknown",
         "200"
        ],
        [
         "2",
         "2",
         "Round",
         "E",
         "VVS2",
         "0.09",
         "Excellent",
         "IGI",
         "Very Good",
         "Very Good",
         "unknown",
         "unknown",
         "unknown",
         "61.1",
         "59.0",
         "2.88",
         "2.9",
         "1.77",
         "TN",
         "M",
         "unknown",
         null,
         "unknown",
         "unknown",
         "unknown",
         "unknown",
         "200"
        ],
        [
         "3",
         "3",
         "Round",
         "E",
         "VVS2",
         "0.09",
         "Excellent",
         "IGI",
         "Very Good",
         "Very Good",
         "unknown",
         "unknown",
         "unknown",
         "62.0",
         "59.0",
         "2.86",
         "2.88",
         "1.78",
         "M",
         "STK",
         "unknown",
         null,
         "unknown",
         "unknown",
         "unknown",
         "unknown",
         "200"
        ],
        [
         "4",
         "4",
         "Round",
         "E",
         "VVS2",
         "0.09",
         "Very Good",
         "IGI",
         "Very Good",
         "Excellent",
         "unknown",
         "N",
         "unknown",
         "64.9",
         "58.5",
         "2.79",
         "2.83",
         "1.82",
         "STK",
         "STK",
         "unknown",
         null,
         "unknown",
         "unknown",
         "unknown",
         "unknown",
         "200"
        ]
       ],
       "shape": {
        "columns": 26,
        "rows": 5
       }
      },
      "text/html": [
       "<div>\n",
       "<style scoped>\n",
       "    .dataframe tbody tr th:only-of-type {\n",
       "        vertical-align: middle;\n",
       "    }\n",
       "\n",
       "    .dataframe tbody tr th {\n",
       "        vertical-align: top;\n",
       "    }\n",
       "\n",
       "    .dataframe thead th {\n",
       "        text-align: right;\n",
       "    }\n",
       "</style>\n",
       "<table border=\"1\" class=\"dataframe\">\n",
       "  <thead>\n",
       "    <tr style=\"text-align: right;\">\n",
       "      <th></th>\n",
       "      <th>Unnamed: 0</th>\n",
       "      <th>cut</th>\n",
       "      <th>color</th>\n",
       "      <th>clarity</th>\n",
       "      <th>carat_weight</th>\n",
       "      <th>cut_quality</th>\n",
       "      <th>lab</th>\n",
       "      <th>symmetry</th>\n",
       "      <th>polish</th>\n",
       "      <th>eye_clean</th>\n",
       "      <th>...</th>\n",
       "      <th>meas_depth</th>\n",
       "      <th>girdle_min</th>\n",
       "      <th>girdle_max</th>\n",
       "      <th>fluor_color</th>\n",
       "      <th>fluor_intensity</th>\n",
       "      <th>fancy_color_dominant_color</th>\n",
       "      <th>fancy_color_secondary_color</th>\n",
       "      <th>fancy_color_overtone</th>\n",
       "      <th>fancy_color_intensity</th>\n",
       "      <th>total_sales_price</th>\n",
       "    </tr>\n",
       "  </thead>\n",
       "  <tbody>\n",
       "    <tr>\n",
       "      <th>0</th>\n",
       "      <td>0</td>\n",
       "      <td>Round</td>\n",
       "      <td>E</td>\n",
       "      <td>VVS2</td>\n",
       "      <td>0.09</td>\n",
       "      <td>Excellent</td>\n",
       "      <td>IGI</td>\n",
       "      <td>Very Good</td>\n",
       "      <td>Very Good</td>\n",
       "      <td>unknown</td>\n",
       "      <td>...</td>\n",
       "      <td>1.79</td>\n",
       "      <td>M</td>\n",
       "      <td>M</td>\n",
       "      <td>unknown</td>\n",
       "      <td>NaN</td>\n",
       "      <td>unknown</td>\n",
       "      <td>unknown</td>\n",
       "      <td>unknown</td>\n",
       "      <td>unknown</td>\n",
       "      <td>200</td>\n",
       "    </tr>\n",
       "    <tr>\n",
       "      <th>1</th>\n",
       "      <td>1</td>\n",
       "      <td>Round</td>\n",
       "      <td>E</td>\n",
       "      <td>VVS2</td>\n",
       "      <td>0.09</td>\n",
       "      <td>Very Good</td>\n",
       "      <td>IGI</td>\n",
       "      <td>Very Good</td>\n",
       "      <td>Very Good</td>\n",
       "      <td>unknown</td>\n",
       "      <td>...</td>\n",
       "      <td>1.78</td>\n",
       "      <td>STK</td>\n",
       "      <td>STK</td>\n",
       "      <td>unknown</td>\n",
       "      <td>NaN</td>\n",
       "      <td>unknown</td>\n",
       "      <td>unknown</td>\n",
       "      <td>unknown</td>\n",
       "      <td>unknown</td>\n",
       "      <td>200</td>\n",
       "    </tr>\n",
       "    <tr>\n",
       "      <th>2</th>\n",
       "      <td>2</td>\n",
       "      <td>Round</td>\n",
       "      <td>E</td>\n",
       "      <td>VVS2</td>\n",
       "      <td>0.09</td>\n",
       "      <td>Excellent</td>\n",
       "      <td>IGI</td>\n",
       "      <td>Very Good</td>\n",
       "      <td>Very Good</td>\n",
       "      <td>unknown</td>\n",
       "      <td>...</td>\n",
       "      <td>1.77</td>\n",
       "      <td>TN</td>\n",
       "      <td>M</td>\n",
       "      <td>unknown</td>\n",
       "      <td>NaN</td>\n",
       "      <td>unknown</td>\n",
       "      <td>unknown</td>\n",
       "      <td>unknown</td>\n",
       "      <td>unknown</td>\n",
       "      <td>200</td>\n",
       "    </tr>\n",
       "    <tr>\n",
       "      <th>3</th>\n",
       "      <td>3</td>\n",
       "      <td>Round</td>\n",
       "      <td>E</td>\n",
       "      <td>VVS2</td>\n",
       "      <td>0.09</td>\n",
       "      <td>Excellent</td>\n",
       "      <td>IGI</td>\n",
       "      <td>Very Good</td>\n",
       "      <td>Very Good</td>\n",
       "      <td>unknown</td>\n",
       "      <td>...</td>\n",
       "      <td>1.78</td>\n",
       "      <td>M</td>\n",
       "      <td>STK</td>\n",
       "      <td>unknown</td>\n",
       "      <td>NaN</td>\n",
       "      <td>unknown</td>\n",
       "      <td>unknown</td>\n",
       "      <td>unknown</td>\n",
       "      <td>unknown</td>\n",
       "      <td>200</td>\n",
       "    </tr>\n",
       "    <tr>\n",
       "      <th>4</th>\n",
       "      <td>4</td>\n",
       "      <td>Round</td>\n",
       "      <td>E</td>\n",
       "      <td>VVS2</td>\n",
       "      <td>0.09</td>\n",
       "      <td>Very Good</td>\n",
       "      <td>IGI</td>\n",
       "      <td>Very Good</td>\n",
       "      <td>Excellent</td>\n",
       "      <td>unknown</td>\n",
       "      <td>...</td>\n",
       "      <td>1.82</td>\n",
       "      <td>STK</td>\n",
       "      <td>STK</td>\n",
       "      <td>unknown</td>\n",
       "      <td>NaN</td>\n",
       "      <td>unknown</td>\n",
       "      <td>unknown</td>\n",
       "      <td>unknown</td>\n",
       "      <td>unknown</td>\n",
       "      <td>200</td>\n",
       "    </tr>\n",
       "  </tbody>\n",
       "</table>\n",
       "<p>5 rows × 26 columns</p>\n",
       "</div>"
      ],
      "text/plain": [
       "   Unnamed: 0    cut color clarity  carat_weight cut_quality  lab   symmetry  \\\n",
       "0           0  Round     E    VVS2          0.09   Excellent  IGI  Very Good   \n",
       "1           1  Round     E    VVS2          0.09   Very Good  IGI  Very Good   \n",
       "2           2  Round     E    VVS2          0.09   Excellent  IGI  Very Good   \n",
       "3           3  Round     E    VVS2          0.09   Excellent  IGI  Very Good   \n",
       "4           4  Round     E    VVS2          0.09   Very Good  IGI  Very Good   \n",
       "\n",
       "      polish eye_clean  ... meas_depth girdle_min  girdle_max  fluor_color  \\\n",
       "0  Very Good   unknown  ...       1.79          M           M      unknown   \n",
       "1  Very Good   unknown  ...       1.78        STK         STK      unknown   \n",
       "2  Very Good   unknown  ...       1.77         TN           M      unknown   \n",
       "3  Very Good   unknown  ...       1.78          M         STK      unknown   \n",
       "4  Excellent   unknown  ...       1.82        STK         STK      unknown   \n",
       "\n",
       "   fluor_intensity  fancy_color_dominant_color  fancy_color_secondary_color  \\\n",
       "0              NaN                     unknown                      unknown   \n",
       "1              NaN                     unknown                      unknown   \n",
       "2              NaN                     unknown                      unknown   \n",
       "3              NaN                     unknown                      unknown   \n",
       "4              NaN                     unknown                      unknown   \n",
       "\n",
       "  fancy_color_overtone fancy_color_intensity total_sales_price  \n",
       "0              unknown               unknown               200  \n",
       "1              unknown               unknown               200  \n",
       "2              unknown               unknown               200  \n",
       "3              unknown               unknown               200  \n",
       "4              unknown               unknown               200  \n",
       "\n",
       "[5 rows x 26 columns]"
      ]
     },
     "execution_count": 3,
     "metadata": {},
     "output_type": "execute_result"
    }
   ],
   "source": [
    "df.head()"
   ]
  },
  {
   "cell_type": "code",
   "execution_count": 4,
   "metadata": {},
   "outputs": [
    {
     "name": "stdout",
     "output_type": "stream",
     "text": [
      "<class 'pandas.core.frame.DataFrame'>\n",
      "RangeIndex: 219703 entries, 0 to 219702\n",
      "Data columns (total 26 columns):\n",
      " #   Column                       Non-Null Count   Dtype  \n",
      "---  ------                       --------------   -----  \n",
      " 0   Unnamed: 0                   219703 non-null  int64  \n",
      " 1   cut                          219703 non-null  object \n",
      " 2   color                        219703 non-null  object \n",
      " 3   clarity                      219703 non-null  object \n",
      " 4   carat_weight                 219703 non-null  float64\n",
      " 5   cut_quality                  219703 non-null  object \n",
      " 6   lab                          219703 non-null  object \n",
      " 7   symmetry                     219703 non-null  object \n",
      " 8   polish                       219703 non-null  object \n",
      " 9   eye_clean                    219703 non-null  object \n",
      " 10  culet_size                   219703 non-null  object \n",
      " 11  culet_condition              219703 non-null  object \n",
      " 12  depth_percent                219703 non-null  float64\n",
      " 13  table_percent                219703 non-null  float64\n",
      " 14  meas_length                  219703 non-null  float64\n",
      " 15  meas_width                   219703 non-null  float64\n",
      " 16  meas_depth                   219703 non-null  float64\n",
      " 17  girdle_min                   219703 non-null  object \n",
      " 18  girdle_max                   219703 non-null  object \n",
      " 19  fluor_color                  219703 non-null  object \n",
      " 20  fluor_intensity              76212 non-null   object \n",
      " 21  fancy_color_dominant_color   219703 non-null  object \n",
      " 22  fancy_color_secondary_color  219703 non-null  object \n",
      " 23  fancy_color_overtone         218053 non-null  object \n",
      " 24  fancy_color_intensity        219703 non-null  object \n",
      " 25  total_sales_price            219703 non-null  int64  \n",
      "dtypes: float64(6), int64(2), object(18)\n",
      "memory usage: 43.6+ MB\n"
     ]
    }
   ],
   "source": [
    "df.info(verbose=True, show_counts=True)"
   ]
  },
  {
   "cell_type": "markdown",
   "metadata": {},
   "source": [
    "We have to delete column 1 as it is redundant"
   ]
  },
  {
   "cell_type": "code",
   "execution_count": 5,
   "metadata": {},
   "outputs": [],
   "source": [
    "# calculating the number of outliers\n",
    "\n",
    "# print(orig_df[orig_df['carat_weight'] > 2.03].shape[0])\n",
    "# print(orig_df[orig_df['carat_weight'] > 2.03].shape[0]/df.shape[0])"
   ]
  },
  {
   "cell_type": "markdown",
   "metadata": {},
   "source": [
    "From the box plot, we can observe that the carat weights range from 0.08 to 19.35. The majority of the carat weights fall between approximately 0.08 and 2.03, with a median value around 0.5. There are 9447(4.30%) outliers with carat weights above 2.03.\n"
   ]
  },
  {
   "cell_type": "code",
   "execution_count": 6,
   "metadata": {},
   "outputs": [],
   "source": [
    "# The 23 color grades on the GIA Color Scale \n",
    "# (or diamond color chart) are subdivided into\n",
    "#  five subcategories, which are: colorless (D-F); \n",
    "# near colorless (G-J); faint (K-M); very light (N-R); \n",
    "# and light (S-Z).\n"
   ]
  },
  {
   "cell_type": "code",
   "execution_count": 7,
   "metadata": {},
   "outputs": [
    {
     "name": "stdout",
     "output_type": "stream",
     "text": [
      "9164\n"
     ]
    },
    {
     "data": {
      "text/plain": [
       "fancy_color_dominant_color\n",
       "unknown      210539\n",
       "Yellow         6487\n",
       "Pink           1369\n",
       "Brown           531\n",
       "Green           302\n",
       "Orange          271\n",
       "Purple           76\n",
       "Gray             66\n",
       "Blue             38\n",
       "Chameleon        12\n",
       "Black             6\n",
       "Red               4\n",
       "Other             2\n",
       "Name: count, dtype: int64"
      ]
     },
     "execution_count": 7,
     "metadata": {},
     "output_type": "execute_result"
    }
   ],
   "source": [
    "# diamonds with fancy color\n",
    "print(df.loc[df['fancy_color_dominant_color'] != 'unknown'].shape[0])\n",
    "df['fancy_color_dominant_color'].value_counts()"
   ]
  },
  {
   "cell_type": "markdown",
   "metadata": {},
   "source": [
    "Most of the diamonds fall under diamonds with no fancy color i.e Colorless, Near Colorless and Faint(D-M)"
   ]
  },
  {
   "cell_type": "code",
   "execution_count": 8,
   "metadata": {},
   "outputs": [],
   "source": [
    "#  changing the 2 'Other' categories to 'unknown':\n",
    "df.replace({'fancy_color_dominant_color': {'Other': 'unknown'}}, inplace=True)"
   ]
  },
  {
   "cell_type": "markdown",
   "metadata": {},
   "source": [
    "There are 9162 diamonds of fancy colors with their respective intensities."
   ]
  },
  {
   "cell_type": "code",
   "execution_count": 9,
   "metadata": {},
   "outputs": [
    {
     "name": "stdout",
     "output_type": "stream",
     "text": [
      "9162\n"
     ]
    },
    {
     "data": {
      "text/plain": [
       "fancy_color_intensity\n",
       "unknown          210541\n",
       "Fancy              3447\n",
       "Fancy Intense      1943\n",
       "Fancy Light        1288\n",
       "Fancy Deep          777\n",
       "Fancy Vivid         714\n",
       "Light               318\n",
       "Faint               238\n",
       "Fancy Dark          238\n",
       "Very Light          199\n",
       "Name: count, dtype: int64"
      ]
     },
     "execution_count": 9,
     "metadata": {},
     "output_type": "execute_result"
    }
   ],
   "source": [
    "print(df.loc[df['fancy_color_intensity'] != 'unknown'].shape[0])\n",
    "df['fancy_color_intensity'].value_counts()"
   ]
  },
  {
   "cell_type": "markdown",
   "metadata": {},
   "source": [
    "On GIA Colored Diamond Grading Reports, colored diamonds are graded in order of increasing color strength, from Faint, Very Light, Light, Fancy Light and Fancy to Fancy Intense, Fancy Vivid, Fancy Dark and Fancy Deep"
   ]
  },
  {
   "cell_type": "code",
   "execution_count": 10,
   "metadata": {},
   "outputs": [
    {
     "name": "stderr",
     "output_type": "stream",
     "text": [
      "C:\\Users\\tsree\\AppData\\Local\\Temp\\ipykernel_50112\\2314200303.py:1: FutureWarning: A value is trying to be set on a copy of a DataFrame or Series through chained assignment using an inplace method.\n",
      "The behavior will change in pandas 3.0. This inplace method will never work because the intermediate object on which we are setting values always behaves as a copy.\n",
      "\n",
      "For example, when doing 'df[col].method(value, inplace=True)', try using 'df.method({col: value}, inplace=True)' or df[col] = df[col].method(value) instead, to perform the operation inplace on the original object.\n",
      "\n",
      "\n",
      "  df['fancy_color_overtone'].fillna('unknown', inplace=True)\n"
     ]
    },
    {
     "data": {
      "text/plain": [
       "fancy_color_overtone\n",
       "unknown      219315\n",
       "Brownish        123\n",
       "Yellowish        78\n",
       "Orangey          54\n",
       "Pinkish          51\n",
       "Greenish         47\n",
       "Purplish         34\n",
       "Grayish           1\n",
       "Name: count, dtype: int64"
      ]
     },
     "execution_count": 10,
     "metadata": {},
     "output_type": "execute_result"
    }
   ],
   "source": [
    "df['fancy_color_overtone'].fillna('unknown', inplace=True)\n",
    "df['fancy_color_overtone'].value_counts(dropna=False)"
   ]
  },
  {
   "cell_type": "markdown",
   "metadata": {},
   "source": [
    "There are 9106 diamonds with a fancy color. And the Chameleon, Black and Red diamonds are the rarest among natural diamonds.\n",
    "\n",
    "Lets double check that there aren't any diamonds with a secondary fancy color without a dominant color."
   ]
  },
  {
   "cell_type": "code",
   "execution_count": 11,
   "metadata": {},
   "outputs": [
    {
     "data": {
      "application/vnd.microsoft.datawrangler.viewer.v0+json": {
       "columns": [
        {
         "name": "index",
         "rawType": "int64",
         "type": "integer"
        },
        {
         "name": "Unnamed: 0",
         "rawType": "int64",
         "type": "integer"
        },
        {
         "name": "cut",
         "rawType": "object",
         "type": "string"
        },
        {
         "name": "color",
         "rawType": "object",
         "type": "string"
        },
        {
         "name": "clarity",
         "rawType": "object",
         "type": "string"
        },
        {
         "name": "carat_weight",
         "rawType": "float64",
         "type": "float"
        },
        {
         "name": "cut_quality",
         "rawType": "object",
         "type": "string"
        },
        {
         "name": "lab",
         "rawType": "object",
         "type": "string"
        },
        {
         "name": "symmetry",
         "rawType": "object",
         "type": "string"
        },
        {
         "name": "polish",
         "rawType": "object",
         "type": "string"
        },
        {
         "name": "eye_clean",
         "rawType": "object",
         "type": "string"
        },
        {
         "name": "culet_size",
         "rawType": "object",
         "type": "string"
        },
        {
         "name": "culet_condition",
         "rawType": "object",
         "type": "string"
        },
        {
         "name": "depth_percent",
         "rawType": "float64",
         "type": "float"
        },
        {
         "name": "table_percent",
         "rawType": "float64",
         "type": "float"
        },
        {
         "name": "meas_length",
         "rawType": "float64",
         "type": "float"
        },
        {
         "name": "meas_width",
         "rawType": "float64",
         "type": "float"
        },
        {
         "name": "meas_depth",
         "rawType": "float64",
         "type": "float"
        },
        {
         "name": "girdle_min",
         "rawType": "object",
         "type": "string"
        },
        {
         "name": "girdle_max",
         "rawType": "object",
         "type": "string"
        },
        {
         "name": "fluor_color",
         "rawType": "object",
         "type": "string"
        },
        {
         "name": "fluor_intensity",
         "rawType": "object",
         "type": "string"
        },
        {
         "name": "fancy_color_dominant_color",
         "rawType": "object",
         "type": "string"
        },
        {
         "name": "fancy_color_secondary_color",
         "rawType": "object",
         "type": "string"
        },
        {
         "name": "fancy_color_overtone",
         "rawType": "object",
         "type": "string"
        },
        {
         "name": "fancy_color_intensity",
         "rawType": "object",
         "type": "string"
        },
        {
         "name": "total_sales_price",
         "rawType": "int64",
         "type": "integer"
        }
       ],
       "conversionMethod": "pd.DataFrame",
       "ref": "3a253ad1-0d05-43e0-a692-38224c200633",
       "rows": [],
       "shape": {
        "columns": 26,
        "rows": 0
       }
      },
      "text/html": [
       "<div>\n",
       "<style scoped>\n",
       "    .dataframe tbody tr th:only-of-type {\n",
       "        vertical-align: middle;\n",
       "    }\n",
       "\n",
       "    .dataframe tbody tr th {\n",
       "        vertical-align: top;\n",
       "    }\n",
       "\n",
       "    .dataframe thead th {\n",
       "        text-align: right;\n",
       "    }\n",
       "</style>\n",
       "<table border=\"1\" class=\"dataframe\">\n",
       "  <thead>\n",
       "    <tr style=\"text-align: right;\">\n",
       "      <th></th>\n",
       "      <th>Unnamed: 0</th>\n",
       "      <th>cut</th>\n",
       "      <th>color</th>\n",
       "      <th>clarity</th>\n",
       "      <th>carat_weight</th>\n",
       "      <th>cut_quality</th>\n",
       "      <th>lab</th>\n",
       "      <th>symmetry</th>\n",
       "      <th>polish</th>\n",
       "      <th>eye_clean</th>\n",
       "      <th>...</th>\n",
       "      <th>meas_depth</th>\n",
       "      <th>girdle_min</th>\n",
       "      <th>girdle_max</th>\n",
       "      <th>fluor_color</th>\n",
       "      <th>fluor_intensity</th>\n",
       "      <th>fancy_color_dominant_color</th>\n",
       "      <th>fancy_color_secondary_color</th>\n",
       "      <th>fancy_color_overtone</th>\n",
       "      <th>fancy_color_intensity</th>\n",
       "      <th>total_sales_price</th>\n",
       "    </tr>\n",
       "  </thead>\n",
       "  <tbody>\n",
       "  </tbody>\n",
       "</table>\n",
       "<p>0 rows × 26 columns</p>\n",
       "</div>"
      ],
      "text/plain": [
       "Empty DataFrame\n",
       "Columns: [Unnamed: 0, cut, color, clarity, carat_weight, cut_quality, lab, symmetry, polish, eye_clean, culet_size, culet_condition, depth_percent, table_percent, meas_length, meas_width, meas_depth, girdle_min, girdle_max, fluor_color, fluor_intensity, fancy_color_dominant_color, fancy_color_secondary_color, fancy_color_overtone, fancy_color_intensity, total_sales_price]\n",
       "Index: []\n",
       "\n",
       "[0 rows x 26 columns]"
      ]
     },
     "execution_count": 11,
     "metadata": {},
     "output_type": "execute_result"
    }
   ],
   "source": [
    "df.loc[(df['fancy_color_dominant_color']=='unknown') & (df['fancy_color_secondary_color']!='unknown')]"
   ]
  },
  {
   "cell_type": "markdown",
   "metadata": {},
   "source": [
    "Checking the same for fancy color overtone."
   ]
  },
  {
   "cell_type": "code",
   "execution_count": 12,
   "metadata": {},
   "outputs": [
    {
     "data": {
      "application/vnd.microsoft.datawrangler.viewer.v0+json": {
       "columns": [
        {
         "name": "index",
         "rawType": "int64",
         "type": "integer"
        },
        {
         "name": "Unnamed: 0",
         "rawType": "int64",
         "type": "integer"
        },
        {
         "name": "cut",
         "rawType": "object",
         "type": "string"
        },
        {
         "name": "color",
         "rawType": "object",
         "type": "string"
        },
        {
         "name": "clarity",
         "rawType": "object",
         "type": "string"
        },
        {
         "name": "carat_weight",
         "rawType": "float64",
         "type": "float"
        },
        {
         "name": "cut_quality",
         "rawType": "object",
         "type": "string"
        },
        {
         "name": "lab",
         "rawType": "object",
         "type": "string"
        },
        {
         "name": "symmetry",
         "rawType": "object",
         "type": "string"
        },
        {
         "name": "polish",
         "rawType": "object",
         "type": "string"
        },
        {
         "name": "eye_clean",
         "rawType": "object",
         "type": "string"
        },
        {
         "name": "culet_size",
         "rawType": "object",
         "type": "string"
        },
        {
         "name": "culet_condition",
         "rawType": "object",
         "type": "string"
        },
        {
         "name": "depth_percent",
         "rawType": "float64",
         "type": "float"
        },
        {
         "name": "table_percent",
         "rawType": "float64",
         "type": "float"
        },
        {
         "name": "meas_length",
         "rawType": "float64",
         "type": "float"
        },
        {
         "name": "meas_width",
         "rawType": "float64",
         "type": "float"
        },
        {
         "name": "meas_depth",
         "rawType": "float64",
         "type": "float"
        },
        {
         "name": "girdle_min",
         "rawType": "object",
         "type": "string"
        },
        {
         "name": "girdle_max",
         "rawType": "object",
         "type": "string"
        },
        {
         "name": "fluor_color",
         "rawType": "object",
         "type": "string"
        },
        {
         "name": "fluor_intensity",
         "rawType": "object",
         "type": "unknown"
        },
        {
         "name": "fancy_color_dominant_color",
         "rawType": "object",
         "type": "string"
        },
        {
         "name": "fancy_color_secondary_color",
         "rawType": "object",
         "type": "string"
        },
        {
         "name": "fancy_color_overtone",
         "rawType": "object",
         "type": "string"
        },
        {
         "name": "fancy_color_intensity",
         "rawType": "object",
         "type": "string"
        },
        {
         "name": "total_sales_price",
         "rawType": "int64",
         "type": "integer"
        }
       ],
       "conversionMethod": "pd.DataFrame",
       "ref": "82c00baf-31a8-4039-9fac-842d32a9ef0b",
       "rows": [
        [
         "9410",
         "9410",
         "Round",
         "K",
         "VVS2",
         "0.3",
         "Excellent",
         "GIA",
         "Excellent",
         "Excellent",
         "unknown",
         "unknown",
         "unknown",
         "62.7",
         "56.0",
         "4.25",
         "4.29",
         "2.68",
         "unknown",
         "unknown",
         "unknown",
         "Medium",
         "unknown",
         "unknown",
         "Yellowish",
         "unknown",
         "624"
        ],
        [
         "152987",
         "152988",
         "Pear",
         "D",
         "SI1",
         "0.77",
         "unknown",
         "GIA",
         "Very Good",
         "Very Good",
         "unknown",
         "unknown",
         "unknown",
         "69.0",
         "57.0",
         "7.87",
         "4.88",
         "3.37",
         "STK",
         "XTK",
         "unknown",
         null,
         "unknown",
         "unknown",
         "Greenish",
         "unknown",
         "3882"
        ],
        [
         "154700",
         "154701",
         "Pear",
         "D",
         "VS2",
         "0.73",
         "unknown",
         "GIA",
         "Very Good",
         "Very Good",
         "unknown",
         "unknown",
         "unknown",
         "69.9",
         "54.0",
         "7.4",
         "4.89",
         "3.42",
         "TK",
         "XTK",
         "unknown",
         null,
         "unknown",
         "unknown",
         "Greenish",
         "unknown",
         "4119"
        ],
        [
         "160454",
         "160455",
         "Round",
         "K",
         "VS2",
         "1.1",
         "Excellent",
         "IGI",
         "Excellent",
         "Excellent",
         "unknown",
         "unknown",
         "unknown",
         "63.3",
         "56.5",
         "6.46",
         "6.52",
         "4.11",
         "STK",
         "STK",
         "unknown",
         null,
         "unknown",
         "unknown",
         "Brownish",
         "unknown",
         "4754"
        ],
        [
         "219214",
         "219215",
         "Round",
         "D",
         "VVS2",
         "5.05",
         "Excellent",
         "GIA",
         "Excellent",
         "Excellent",
         "unknown",
         "N",
         "unknown",
         "59.0",
         "58.0",
         "11.27",
         "11.3",
         "6.66",
         "unknown",
         "unknown",
         "Blue",
         "Strong",
         "unknown",
         "unknown",
         "Yellowish",
         "unknown",
         "233311"
        ],
        [
         "219250",
         "219251",
         "Round",
         "E",
         "VVS1",
         "5.49",
         "Excellent",
         "GIA",
         "Excellent",
         "Excellent",
         "unknown",
         "N",
         "unknown",
         "61.6",
         "61.0",
         "11.24",
         "11.32",
         "6.95",
         "unknown",
         "unknown",
         "Blue",
         "Strong",
         "unknown",
         "unknown",
         "Yellowish",
         "unknown",
         "245952"
        ]
       ],
       "shape": {
        "columns": 26,
        "rows": 6
       }
      },
      "text/html": [
       "<div>\n",
       "<style scoped>\n",
       "    .dataframe tbody tr th:only-of-type {\n",
       "        vertical-align: middle;\n",
       "    }\n",
       "\n",
       "    .dataframe tbody tr th {\n",
       "        vertical-align: top;\n",
       "    }\n",
       "\n",
       "    .dataframe thead th {\n",
       "        text-align: right;\n",
       "    }\n",
       "</style>\n",
       "<table border=\"1\" class=\"dataframe\">\n",
       "  <thead>\n",
       "    <tr style=\"text-align: right;\">\n",
       "      <th></th>\n",
       "      <th>Unnamed: 0</th>\n",
       "      <th>cut</th>\n",
       "      <th>color</th>\n",
       "      <th>clarity</th>\n",
       "      <th>carat_weight</th>\n",
       "      <th>cut_quality</th>\n",
       "      <th>lab</th>\n",
       "      <th>symmetry</th>\n",
       "      <th>polish</th>\n",
       "      <th>eye_clean</th>\n",
       "      <th>...</th>\n",
       "      <th>meas_depth</th>\n",
       "      <th>girdle_min</th>\n",
       "      <th>girdle_max</th>\n",
       "      <th>fluor_color</th>\n",
       "      <th>fluor_intensity</th>\n",
       "      <th>fancy_color_dominant_color</th>\n",
       "      <th>fancy_color_secondary_color</th>\n",
       "      <th>fancy_color_overtone</th>\n",
       "      <th>fancy_color_intensity</th>\n",
       "      <th>total_sales_price</th>\n",
       "    </tr>\n",
       "  </thead>\n",
       "  <tbody>\n",
       "    <tr>\n",
       "      <th>9410</th>\n",
       "      <td>9410</td>\n",
       "      <td>Round</td>\n",
       "      <td>K</td>\n",
       "      <td>VVS2</td>\n",
       "      <td>0.30</td>\n",
       "      <td>Excellent</td>\n",
       "      <td>GIA</td>\n",
       "      <td>Excellent</td>\n",
       "      <td>Excellent</td>\n",
       "      <td>unknown</td>\n",
       "      <td>...</td>\n",
       "      <td>2.68</td>\n",
       "      <td>unknown</td>\n",
       "      <td>unknown</td>\n",
       "      <td>unknown</td>\n",
       "      <td>Medium</td>\n",
       "      <td>unknown</td>\n",
       "      <td>unknown</td>\n",
       "      <td>Yellowish</td>\n",
       "      <td>unknown</td>\n",
       "      <td>624</td>\n",
       "    </tr>\n",
       "    <tr>\n",
       "      <th>152987</th>\n",
       "      <td>152988</td>\n",
       "      <td>Pear</td>\n",
       "      <td>D</td>\n",
       "      <td>SI1</td>\n",
       "      <td>0.77</td>\n",
       "      <td>unknown</td>\n",
       "      <td>GIA</td>\n",
       "      <td>Very Good</td>\n",
       "      <td>Very Good</td>\n",
       "      <td>unknown</td>\n",
       "      <td>...</td>\n",
       "      <td>3.37</td>\n",
       "      <td>STK</td>\n",
       "      <td>XTK</td>\n",
       "      <td>unknown</td>\n",
       "      <td>NaN</td>\n",
       "      <td>unknown</td>\n",
       "      <td>unknown</td>\n",
       "      <td>Greenish</td>\n",
       "      <td>unknown</td>\n",
       "      <td>3882</td>\n",
       "    </tr>\n",
       "    <tr>\n",
       "      <th>154700</th>\n",
       "      <td>154701</td>\n",
       "      <td>Pear</td>\n",
       "      <td>D</td>\n",
       "      <td>VS2</td>\n",
       "      <td>0.73</td>\n",
       "      <td>unknown</td>\n",
       "      <td>GIA</td>\n",
       "      <td>Very Good</td>\n",
       "      <td>Very Good</td>\n",
       "      <td>unknown</td>\n",
       "      <td>...</td>\n",
       "      <td>3.42</td>\n",
       "      <td>TK</td>\n",
       "      <td>XTK</td>\n",
       "      <td>unknown</td>\n",
       "      <td>NaN</td>\n",
       "      <td>unknown</td>\n",
       "      <td>unknown</td>\n",
       "      <td>Greenish</td>\n",
       "      <td>unknown</td>\n",
       "      <td>4119</td>\n",
       "    </tr>\n",
       "    <tr>\n",
       "      <th>160454</th>\n",
       "      <td>160455</td>\n",
       "      <td>Round</td>\n",
       "      <td>K</td>\n",
       "      <td>VS2</td>\n",
       "      <td>1.10</td>\n",
       "      <td>Excellent</td>\n",
       "      <td>IGI</td>\n",
       "      <td>Excellent</td>\n",
       "      <td>Excellent</td>\n",
       "      <td>unknown</td>\n",
       "      <td>...</td>\n",
       "      <td>4.11</td>\n",
       "      <td>STK</td>\n",
       "      <td>STK</td>\n",
       "      <td>unknown</td>\n",
       "      <td>NaN</td>\n",
       "      <td>unknown</td>\n",
       "      <td>unknown</td>\n",
       "      <td>Brownish</td>\n",
       "      <td>unknown</td>\n",
       "      <td>4754</td>\n",
       "    </tr>\n",
       "    <tr>\n",
       "      <th>219214</th>\n",
       "      <td>219215</td>\n",
       "      <td>Round</td>\n",
       "      <td>D</td>\n",
       "      <td>VVS2</td>\n",
       "      <td>5.05</td>\n",
       "      <td>Excellent</td>\n",
       "      <td>GIA</td>\n",
       "      <td>Excellent</td>\n",
       "      <td>Excellent</td>\n",
       "      <td>unknown</td>\n",
       "      <td>...</td>\n",
       "      <td>6.66</td>\n",
       "      <td>unknown</td>\n",
       "      <td>unknown</td>\n",
       "      <td>Blue</td>\n",
       "      <td>Strong</td>\n",
       "      <td>unknown</td>\n",
       "      <td>unknown</td>\n",
       "      <td>Yellowish</td>\n",
       "      <td>unknown</td>\n",
       "      <td>233311</td>\n",
       "    </tr>\n",
       "    <tr>\n",
       "      <th>219250</th>\n",
       "      <td>219251</td>\n",
       "      <td>Round</td>\n",
       "      <td>E</td>\n",
       "      <td>VVS1</td>\n",
       "      <td>5.49</td>\n",
       "      <td>Excellent</td>\n",
       "      <td>GIA</td>\n",
       "      <td>Excellent</td>\n",
       "      <td>Excellent</td>\n",
       "      <td>unknown</td>\n",
       "      <td>...</td>\n",
       "      <td>6.95</td>\n",
       "      <td>unknown</td>\n",
       "      <td>unknown</td>\n",
       "      <td>Blue</td>\n",
       "      <td>Strong</td>\n",
       "      <td>unknown</td>\n",
       "      <td>unknown</td>\n",
       "      <td>Yellowish</td>\n",
       "      <td>unknown</td>\n",
       "      <td>245952</td>\n",
       "    </tr>\n",
       "  </tbody>\n",
       "</table>\n",
       "<p>6 rows × 26 columns</p>\n",
       "</div>"
      ],
      "text/plain": [
       "        Unnamed: 0    cut color clarity  carat_weight cut_quality  lab  \\\n",
       "9410          9410  Round     K    VVS2          0.30   Excellent  GIA   \n",
       "152987      152988   Pear     D     SI1          0.77     unknown  GIA   \n",
       "154700      154701   Pear     D     VS2          0.73     unknown  GIA   \n",
       "160454      160455  Round     K     VS2          1.10   Excellent  IGI   \n",
       "219214      219215  Round     D    VVS2          5.05   Excellent  GIA   \n",
       "219250      219251  Round     E    VVS1          5.49   Excellent  GIA   \n",
       "\n",
       "         symmetry     polish eye_clean  ... meas_depth girdle_min  girdle_max  \\\n",
       "9410    Excellent  Excellent   unknown  ...       2.68    unknown     unknown   \n",
       "152987  Very Good  Very Good   unknown  ...       3.37        STK         XTK   \n",
       "154700  Very Good  Very Good   unknown  ...       3.42         TK         XTK   \n",
       "160454  Excellent  Excellent   unknown  ...       4.11        STK         STK   \n",
       "219214  Excellent  Excellent   unknown  ...       6.66    unknown     unknown   \n",
       "219250  Excellent  Excellent   unknown  ...       6.95    unknown     unknown   \n",
       "\n",
       "        fluor_color  fluor_intensity  fancy_color_dominant_color  \\\n",
       "9410        unknown           Medium                     unknown   \n",
       "152987      unknown              NaN                     unknown   \n",
       "154700      unknown              NaN                     unknown   \n",
       "160454      unknown              NaN                     unknown   \n",
       "219214         Blue           Strong                     unknown   \n",
       "219250         Blue           Strong                     unknown   \n",
       "\n",
       "        fancy_color_secondary_color fancy_color_overtone  \\\n",
       "9410                        unknown            Yellowish   \n",
       "152987                      unknown             Greenish   \n",
       "154700                      unknown             Greenish   \n",
       "160454                      unknown             Brownish   \n",
       "219214                      unknown            Yellowish   \n",
       "219250                      unknown            Yellowish   \n",
       "\n",
       "       fancy_color_intensity total_sales_price  \n",
       "9410                 unknown               624  \n",
       "152987               unknown              3882  \n",
       "154700               unknown              4119  \n",
       "160454               unknown              4754  \n",
       "219214               unknown            233311  \n",
       "219250               unknown            245952  \n",
       "\n",
       "[6 rows x 26 columns]"
      ]
     },
     "execution_count": 12,
     "metadata": {},
     "output_type": "execute_result"
    }
   ],
   "source": [
    "condition = (df['fancy_color_dominant_color']=='unknown') & (df['fancy_color_overtone']!='unknown')\n",
    "df.loc[condition]"
   ]
  },
  {
   "cell_type": "markdown",
   "metadata": {},
   "source": [
    "All the above are colorless or faint diamonds, based on the color category. Because D and E are supposed to be colorless, we'll change the overtone to unknown. K colored diamonds are slightly tinted so we don't need to change the values. - https://essiluxgroup.com/knowledge-base/diamond-color.html"
   ]
  },
  {
   "cell_type": "code",
   "execution_count": 13,
   "metadata": {},
   "outputs": [
    {
     "data": {
      "application/vnd.microsoft.datawrangler.viewer.v0+json": {
       "columns": [
        {
         "name": "index",
         "rawType": "int64",
         "type": "integer"
        },
        {
         "name": "Unnamed: 0",
         "rawType": "int64",
         "type": "integer"
        },
        {
         "name": "cut",
         "rawType": "object",
         "type": "string"
        },
        {
         "name": "color",
         "rawType": "object",
         "type": "string"
        },
        {
         "name": "clarity",
         "rawType": "object",
         "type": "string"
        },
        {
         "name": "carat_weight",
         "rawType": "float64",
         "type": "float"
        },
        {
         "name": "cut_quality",
         "rawType": "object",
         "type": "string"
        },
        {
         "name": "lab",
         "rawType": "object",
         "type": "string"
        },
        {
         "name": "symmetry",
         "rawType": "object",
         "type": "string"
        },
        {
         "name": "polish",
         "rawType": "object",
         "type": "string"
        },
        {
         "name": "eye_clean",
         "rawType": "object",
         "type": "string"
        },
        {
         "name": "culet_size",
         "rawType": "object",
         "type": "string"
        },
        {
         "name": "culet_condition",
         "rawType": "object",
         "type": "string"
        },
        {
         "name": "depth_percent",
         "rawType": "float64",
         "type": "float"
        },
        {
         "name": "table_percent",
         "rawType": "float64",
         "type": "float"
        },
        {
         "name": "meas_length",
         "rawType": "float64",
         "type": "float"
        },
        {
         "name": "meas_width",
         "rawType": "float64",
         "type": "float"
        },
        {
         "name": "meas_depth",
         "rawType": "float64",
         "type": "float"
        },
        {
         "name": "girdle_min",
         "rawType": "object",
         "type": "string"
        },
        {
         "name": "girdle_max",
         "rawType": "object",
         "type": "string"
        },
        {
         "name": "fluor_color",
         "rawType": "object",
         "type": "string"
        },
        {
         "name": "fluor_intensity",
         "rawType": "object",
         "type": "unknown"
        },
        {
         "name": "fancy_color_dominant_color",
         "rawType": "object",
         "type": "string"
        },
        {
         "name": "fancy_color_secondary_color",
         "rawType": "object",
         "type": "string"
        },
        {
         "name": "fancy_color_overtone",
         "rawType": "object",
         "type": "string"
        },
        {
         "name": "fancy_color_intensity",
         "rawType": "object",
         "type": "string"
        },
        {
         "name": "total_sales_price",
         "rawType": "int64",
         "type": "integer"
        }
       ],
       "conversionMethod": "pd.DataFrame",
       "ref": "85b98180-15d7-4bbe-96f6-38d5bbdc5809",
       "rows": [
        [
         "9410",
         "9410",
         "Round",
         "K",
         "VVS2",
         "0.3",
         "Excellent",
         "GIA",
         "Excellent",
         "Excellent",
         "unknown",
         "unknown",
         "unknown",
         "62.7",
         "56.0",
         "4.25",
         "4.29",
         "2.68",
         "unknown",
         "unknown",
         "unknown",
         "Medium",
         "unknown",
         "unknown",
         "Yellowish",
         "unknown",
         "624"
        ],
        [
         "152987",
         "152988",
         "Pear",
         "D",
         "SI1",
         "0.77",
         "unknown",
         "GIA",
         "Very Good",
         "Very Good",
         "unknown",
         "unknown",
         "unknown",
         "69.0",
         "57.0",
         "7.87",
         "4.88",
         "3.37",
         "STK",
         "XTK",
         "unknown",
         null,
         "unknown",
         "unknown",
         "unknown",
         "unknown",
         "3882"
        ],
        [
         "154700",
         "154701",
         "Pear",
         "D",
         "VS2",
         "0.73",
         "unknown",
         "GIA",
         "Very Good",
         "Very Good",
         "unknown",
         "unknown",
         "unknown",
         "69.9",
         "54.0",
         "7.4",
         "4.89",
         "3.42",
         "TK",
         "XTK",
         "unknown",
         null,
         "unknown",
         "unknown",
         "unknown",
         "unknown",
         "4119"
        ],
        [
         "160454",
         "160455",
         "Round",
         "K",
         "VS2",
         "1.1",
         "Excellent",
         "IGI",
         "Excellent",
         "Excellent",
         "unknown",
         "unknown",
         "unknown",
         "63.3",
         "56.5",
         "6.46",
         "6.52",
         "4.11",
         "STK",
         "STK",
         "unknown",
         null,
         "unknown",
         "unknown",
         "Brownish",
         "unknown",
         "4754"
        ],
        [
         "219214",
         "219215",
         "Round",
         "D",
         "VVS2",
         "5.05",
         "Excellent",
         "GIA",
         "Excellent",
         "Excellent",
         "unknown",
         "N",
         "unknown",
         "59.0",
         "58.0",
         "11.27",
         "11.3",
         "6.66",
         "unknown",
         "unknown",
         "Blue",
         "Strong",
         "unknown",
         "unknown",
         "unknown",
         "unknown",
         "233311"
        ],
        [
         "219250",
         "219251",
         "Round",
         "E",
         "VVS1",
         "5.49",
         "Excellent",
         "GIA",
         "Excellent",
         "Excellent",
         "unknown",
         "N",
         "unknown",
         "61.6",
         "61.0",
         "11.24",
         "11.32",
         "6.95",
         "unknown",
         "unknown",
         "Blue",
         "Strong",
         "unknown",
         "unknown",
         "unknown",
         "unknown",
         "245952"
        ]
       ],
       "shape": {
        "columns": 26,
        "rows": 6
       }
      },
      "text/html": [
       "<div>\n",
       "<style scoped>\n",
       "    .dataframe tbody tr th:only-of-type {\n",
       "        vertical-align: middle;\n",
       "    }\n",
       "\n",
       "    .dataframe tbody tr th {\n",
       "        vertical-align: top;\n",
       "    }\n",
       "\n",
       "    .dataframe thead th {\n",
       "        text-align: right;\n",
       "    }\n",
       "</style>\n",
       "<table border=\"1\" class=\"dataframe\">\n",
       "  <thead>\n",
       "    <tr style=\"text-align: right;\">\n",
       "      <th></th>\n",
       "      <th>Unnamed: 0</th>\n",
       "      <th>cut</th>\n",
       "      <th>color</th>\n",
       "      <th>clarity</th>\n",
       "      <th>carat_weight</th>\n",
       "      <th>cut_quality</th>\n",
       "      <th>lab</th>\n",
       "      <th>symmetry</th>\n",
       "      <th>polish</th>\n",
       "      <th>eye_clean</th>\n",
       "      <th>...</th>\n",
       "      <th>meas_depth</th>\n",
       "      <th>girdle_min</th>\n",
       "      <th>girdle_max</th>\n",
       "      <th>fluor_color</th>\n",
       "      <th>fluor_intensity</th>\n",
       "      <th>fancy_color_dominant_color</th>\n",
       "      <th>fancy_color_secondary_color</th>\n",
       "      <th>fancy_color_overtone</th>\n",
       "      <th>fancy_color_intensity</th>\n",
       "      <th>total_sales_price</th>\n",
       "    </tr>\n",
       "  </thead>\n",
       "  <tbody>\n",
       "    <tr>\n",
       "      <th>9410</th>\n",
       "      <td>9410</td>\n",
       "      <td>Round</td>\n",
       "      <td>K</td>\n",
       "      <td>VVS2</td>\n",
       "      <td>0.30</td>\n",
       "      <td>Excellent</td>\n",
       "      <td>GIA</td>\n",
       "      <td>Excellent</td>\n",
       "      <td>Excellent</td>\n",
       "      <td>unknown</td>\n",
       "      <td>...</td>\n",
       "      <td>2.68</td>\n",
       "      <td>unknown</td>\n",
       "      <td>unknown</td>\n",
       "      <td>unknown</td>\n",
       "      <td>Medium</td>\n",
       "      <td>unknown</td>\n",
       "      <td>unknown</td>\n",
       "      <td>Yellowish</td>\n",
       "      <td>unknown</td>\n",
       "      <td>624</td>\n",
       "    </tr>\n",
       "    <tr>\n",
       "      <th>152987</th>\n",
       "      <td>152988</td>\n",
       "      <td>Pear</td>\n",
       "      <td>D</td>\n",
       "      <td>SI1</td>\n",
       "      <td>0.77</td>\n",
       "      <td>unknown</td>\n",
       "      <td>GIA</td>\n",
       "      <td>Very Good</td>\n",
       "      <td>Very Good</td>\n",
       "      <td>unknown</td>\n",
       "      <td>...</td>\n",
       "      <td>3.37</td>\n",
       "      <td>STK</td>\n",
       "      <td>XTK</td>\n",
       "      <td>unknown</td>\n",
       "      <td>NaN</td>\n",
       "      <td>unknown</td>\n",
       "      <td>unknown</td>\n",
       "      <td>unknown</td>\n",
       "      <td>unknown</td>\n",
       "      <td>3882</td>\n",
       "    </tr>\n",
       "    <tr>\n",
       "      <th>154700</th>\n",
       "      <td>154701</td>\n",
       "      <td>Pear</td>\n",
       "      <td>D</td>\n",
       "      <td>VS2</td>\n",
       "      <td>0.73</td>\n",
       "      <td>unknown</td>\n",
       "      <td>GIA</td>\n",
       "      <td>Very Good</td>\n",
       "      <td>Very Good</td>\n",
       "      <td>unknown</td>\n",
       "      <td>...</td>\n",
       "      <td>3.42</td>\n",
       "      <td>TK</td>\n",
       "      <td>XTK</td>\n",
       "      <td>unknown</td>\n",
       "      <td>NaN</td>\n",
       "      <td>unknown</td>\n",
       "      <td>unknown</td>\n",
       "      <td>unknown</td>\n",
       "      <td>unknown</td>\n",
       "      <td>4119</td>\n",
       "    </tr>\n",
       "    <tr>\n",
       "      <th>160454</th>\n",
       "      <td>160455</td>\n",
       "      <td>Round</td>\n",
       "      <td>K</td>\n",
       "      <td>VS2</td>\n",
       "      <td>1.10</td>\n",
       "      <td>Excellent</td>\n",
       "      <td>IGI</td>\n",
       "      <td>Excellent</td>\n",
       "      <td>Excellent</td>\n",
       "      <td>unknown</td>\n",
       "      <td>...</td>\n",
       "      <td>4.11</td>\n",
       "      <td>STK</td>\n",
       "      <td>STK</td>\n",
       "      <td>unknown</td>\n",
       "      <td>NaN</td>\n",
       "      <td>unknown</td>\n",
       "      <td>unknown</td>\n",
       "      <td>Brownish</td>\n",
       "      <td>unknown</td>\n",
       "      <td>4754</td>\n",
       "    </tr>\n",
       "    <tr>\n",
       "      <th>219214</th>\n",
       "      <td>219215</td>\n",
       "      <td>Round</td>\n",
       "      <td>D</td>\n",
       "      <td>VVS2</td>\n",
       "      <td>5.05</td>\n",
       "      <td>Excellent</td>\n",
       "      <td>GIA</td>\n",
       "      <td>Excellent</td>\n",
       "      <td>Excellent</td>\n",
       "      <td>unknown</td>\n",
       "      <td>...</td>\n",
       "      <td>6.66</td>\n",
       "      <td>unknown</td>\n",
       "      <td>unknown</td>\n",
       "      <td>Blue</td>\n",
       "      <td>Strong</td>\n",
       "      <td>unknown</td>\n",
       "      <td>unknown</td>\n",
       "      <td>unknown</td>\n",
       "      <td>unknown</td>\n",
       "      <td>233311</td>\n",
       "    </tr>\n",
       "    <tr>\n",
       "      <th>219250</th>\n",
       "      <td>219251</td>\n",
       "      <td>Round</td>\n",
       "      <td>E</td>\n",
       "      <td>VVS1</td>\n",
       "      <td>5.49</td>\n",
       "      <td>Excellent</td>\n",
       "      <td>GIA</td>\n",
       "      <td>Excellent</td>\n",
       "      <td>Excellent</td>\n",
       "      <td>unknown</td>\n",
       "      <td>...</td>\n",
       "      <td>6.95</td>\n",
       "      <td>unknown</td>\n",
       "      <td>unknown</td>\n",
       "      <td>Blue</td>\n",
       "      <td>Strong</td>\n",
       "      <td>unknown</td>\n",
       "      <td>unknown</td>\n",
       "      <td>unknown</td>\n",
       "      <td>unknown</td>\n",
       "      <td>245952</td>\n",
       "    </tr>\n",
       "  </tbody>\n",
       "</table>\n",
       "<p>6 rows × 26 columns</p>\n",
       "</div>"
      ],
      "text/plain": [
       "        Unnamed: 0    cut color clarity  carat_weight cut_quality  lab  \\\n",
       "9410          9410  Round     K    VVS2          0.30   Excellent  GIA   \n",
       "152987      152988   Pear     D     SI1          0.77     unknown  GIA   \n",
       "154700      154701   Pear     D     VS2          0.73     unknown  GIA   \n",
       "160454      160455  Round     K     VS2          1.10   Excellent  IGI   \n",
       "219214      219215  Round     D    VVS2          5.05   Excellent  GIA   \n",
       "219250      219251  Round     E    VVS1          5.49   Excellent  GIA   \n",
       "\n",
       "         symmetry     polish eye_clean  ... meas_depth girdle_min  girdle_max  \\\n",
       "9410    Excellent  Excellent   unknown  ...       2.68    unknown     unknown   \n",
       "152987  Very Good  Very Good   unknown  ...       3.37        STK         XTK   \n",
       "154700  Very Good  Very Good   unknown  ...       3.42         TK         XTK   \n",
       "160454  Excellent  Excellent   unknown  ...       4.11        STK         STK   \n",
       "219214  Excellent  Excellent   unknown  ...       6.66    unknown     unknown   \n",
       "219250  Excellent  Excellent   unknown  ...       6.95    unknown     unknown   \n",
       "\n",
       "        fluor_color  fluor_intensity  fancy_color_dominant_color  \\\n",
       "9410        unknown           Medium                     unknown   \n",
       "152987      unknown              NaN                     unknown   \n",
       "154700      unknown              NaN                     unknown   \n",
       "160454      unknown              NaN                     unknown   \n",
       "219214         Blue           Strong                     unknown   \n",
       "219250         Blue           Strong                     unknown   \n",
       "\n",
       "        fancy_color_secondary_color fancy_color_overtone  \\\n",
       "9410                        unknown            Yellowish   \n",
       "152987                      unknown              unknown   \n",
       "154700                      unknown              unknown   \n",
       "160454                      unknown             Brownish   \n",
       "219214                      unknown              unknown   \n",
       "219250                      unknown              unknown   \n",
       "\n",
       "       fancy_color_intensity total_sales_price  \n",
       "9410                 unknown               624  \n",
       "152987               unknown              3882  \n",
       "154700               unknown              4119  \n",
       "160454               unknown              4754  \n",
       "219214               unknown            233311  \n",
       "219250               unknown            245952  \n",
       "\n",
       "[6 rows x 26 columns]"
      ]
     },
     "execution_count": 13,
     "metadata": {},
     "output_type": "execute_result"
    }
   ],
   "source": [
    "df.loc[(df.color.isin(['D', 'E'])) & (condition), 'fancy_color_overtone'] = 'unknown'\n",
    "df.loc[condition]"
   ]
  },
  {
   "cell_type": "code",
   "execution_count": 14,
   "metadata": {},
   "outputs": [
    {
     "data": {
      "text/plain": [
       "color_scale\n",
       "colorless         95542\n",
       "near colorless    94519\n",
       "faint             20480\n",
       "fancy              9162\n",
       "Name: count, dtype: int64"
      ]
     },
     "execution_count": 14,
     "metadata": {},
     "output_type": "execute_result"
    }
   ],
   "source": [
    "def color_condition(color):\n",
    "    if color in ['D', 'E', 'F']:\n",
    "        return 'colorless'\n",
    "    elif color in ['G', 'H', 'I', 'J']:\n",
    "        return 'near colorless'\n",
    "    elif color in ['K', 'L', 'M']:\n",
    "        return 'faint'\n",
    "    elif color in ['N', 'O', 'P', 'Q', 'R']:\n",
    "        return 'very light' \n",
    "    elif color in ['S', 'T', 'U', 'V', 'W', 'X', 'Y', 'Z']:\n",
    "        return 'light'\n",
    "    else:\n",
    "        return 'unknown'\n",
    "\n",
    "df['color_scale'] = df['color'].apply(color_condition)\n",
    "df.loc[(df['fancy_color_dominant_color']!='unknown')&(df['color']=='unknown'), 'color_scale'] = 'fancy'\n",
    "df['color_scale'].value_counts() "
   ]
  },
  {
   "cell_type": "markdown",
   "metadata": {},
   "source": [
    "### ========================================================================================"
   ]
  },
  {
   "cell_type": "code",
   "execution_count": 15,
   "metadata": {},
   "outputs": [
    {
     "data": {
      "text/plain": [
       "clarity\n",
       "SI1     38627\n",
       "VS2     38173\n",
       "VS1     36956\n",
       "SI2     31105\n",
       "VVS2    28985\n",
       "VVS1    27877\n",
       "IF       9974\n",
       "I1       6961\n",
       "I2        944\n",
       "I3         91\n",
       "SI3        10\n",
       "Name: count, dtype: int64"
      ]
     },
     "execution_count": 15,
     "metadata": {},
     "output_type": "execute_result"
    }
   ],
   "source": [
    "df['clarity'].value_counts()"
   ]
  },
  {
   "cell_type": "markdown",
   "metadata": {},
   "source": [
    "Understanding clarity:\n",
    "<!---\n",
    "The GIA Diamond Clarity Scale has 6 categories, some of which are divided, for a total of 11 specific grades.\n",
    "\n",
    "- Flawless (FL) No inclusions and no blemishes visible under 10x magnification\n",
    "- Internally Flawless (IF) No inclusions visible under 10x magnification\n",
    "- Very, Very Slightly Included (VVS1 and VVS2) Inclusions so slight they are difficult for a skilled grader to see under 10x magnification\n",
    "- Very Slightly Included (VS1 and VS2) Inclusions are observed with effort under 10x magnification, but can be characterized as minor\n",
    "- Slightly Included (SI1 and SI2) Inclusions are noticeable under 10x magnification\n",
    "- Included (I1, I2, and I3) Inclusions are obvious under 10x magnification which may affect transparency and brilliance\n",
    "\n",
    "WHAT CAUSES INCLUSIONS?\n",
    "Small crystals can become trapped in a diamond when it’s forming. Sometimes as a crystal grows, it can develop irregularities in its atomic structure. The size, position and visibility of inclusions can have a significant impact on diamond clarity.\n",
    "\n",
    "SI3 is a diamond clarity rating used by some labs to indicate a clarity that falls between the Slightly Included and Included ranges. It is important to note that the GIA does not have an SI3 rating and it is our expert opinion that you should avoid these diamonds. These diamonds are almost always diamonds that have been given an I1 or worse rating by the GIA and then submitted to another lab with lower standards and “upgraded” to an SI3. An SI3-rated diamond will, in all likelihood, not be eye-clean and will contain obvious blemishes visible to the naked eye. We don’t consider these diamonds to be a good value for your money.\n",
    ">"
   ]
  },
  {
   "cell_type": "code",
   "execution_count": 16,
   "metadata": {},
   "outputs": [
    {
     "data": {
      "application/vnd.microsoft.datawrangler.viewer.v0+json": {
       "columns": [
        {
         "name": "index",
         "rawType": "int64",
         "type": "integer"
        },
        {
         "name": "Unnamed: 0",
         "rawType": "int64",
         "type": "integer"
        },
        {
         "name": "cut",
         "rawType": "object",
         "type": "string"
        },
        {
         "name": "color",
         "rawType": "object",
         "type": "string"
        },
        {
         "name": "clarity",
         "rawType": "object",
         "type": "string"
        },
        {
         "name": "carat_weight",
         "rawType": "float64",
         "type": "float"
        },
        {
         "name": "cut_quality",
         "rawType": "object",
         "type": "string"
        },
        {
         "name": "lab",
         "rawType": "object",
         "type": "string"
        },
        {
         "name": "symmetry",
         "rawType": "object",
         "type": "string"
        },
        {
         "name": "polish",
         "rawType": "object",
         "type": "string"
        },
        {
         "name": "eye_clean",
         "rawType": "object",
         "type": "string"
        },
        {
         "name": "culet_size",
         "rawType": "object",
         "type": "string"
        },
        {
         "name": "culet_condition",
         "rawType": "object",
         "type": "string"
        },
        {
         "name": "depth_percent",
         "rawType": "float64",
         "type": "float"
        },
        {
         "name": "table_percent",
         "rawType": "float64",
         "type": "float"
        },
        {
         "name": "meas_length",
         "rawType": "float64",
         "type": "float"
        },
        {
         "name": "meas_width",
         "rawType": "float64",
         "type": "float"
        },
        {
         "name": "meas_depth",
         "rawType": "float64",
         "type": "float"
        },
        {
         "name": "girdle_min",
         "rawType": "object",
         "type": "string"
        },
        {
         "name": "girdle_max",
         "rawType": "object",
         "type": "string"
        },
        {
         "name": "fluor_color",
         "rawType": "object",
         "type": "string"
        },
        {
         "name": "fluor_intensity",
         "rawType": "object",
         "type": "unknown"
        },
        {
         "name": "fancy_color_dominant_color",
         "rawType": "object",
         "type": "string"
        },
        {
         "name": "fancy_color_secondary_color",
         "rawType": "object",
         "type": "string"
        },
        {
         "name": "fancy_color_overtone",
         "rawType": "object",
         "type": "string"
        },
        {
         "name": "fancy_color_intensity",
         "rawType": "object",
         "type": "string"
        },
        {
         "name": "total_sales_price",
         "rawType": "int64",
         "type": "integer"
        },
        {
         "name": "color_scale",
         "rawType": "object",
         "type": "string"
        }
       ],
       "conversionMethod": "pd.DataFrame",
       "ref": "ed29549a-41b8-4063-9861-bdcbf4e058bc",
       "rows": [
        [
         "130",
         "130",
         "Round",
         "H",
         "SI3",
         "0.23",
         "Very Good",
         "IGI",
         "Very Good",
         "Very Good",
         "unknown",
         "unknown",
         "unknown",
         "0.0",
         "0.0",
         "0.0",
         "0.0",
         "0.0",
         "unknown",
         "unknown",
         "unknown",
         null,
         "unknown",
         "unknown",
         "unknown",
         "unknown",
         "284",
         "near colorless"
        ],
        [
         "149",
         "149",
         "Round",
         "H",
         "SI3",
         "0.24",
         "Very Good",
         "IGI",
         "Very Good",
         "Very Good",
         "unknown",
         "unknown",
         "unknown",
         "0.0",
         "0.0",
         "0.0",
         "0.0",
         "0.0",
         "unknown",
         "unknown",
         "unknown",
         null,
         "unknown",
         "unknown",
         "unknown",
         "unknown",
         "296",
         "near colorless"
        ],
        [
         "171",
         "171",
         "Round",
         "H",
         "SI3",
         "0.25",
         "Very Good",
         "IGI",
         "Very Good",
         "Very Good",
         "unknown",
         "unknown",
         "unknown",
         "0.0",
         "0.0",
         "0.0",
         "0.0",
         "0.0",
         "unknown",
         "unknown",
         "unknown",
         null,
         "unknown",
         "unknown",
         "unknown",
         "unknown",
         "308",
         "near colorless"
        ],
        [
         "212",
         "212",
         "Round",
         "H",
         "SI3",
         "0.26",
         "Very Good",
         "IGI",
         "Very Good",
         "Very Good",
         "unknown",
         "unknown",
         "unknown",
         "0.0",
         "0.0",
         "0.0",
         "0.0",
         "0.0",
         "unknown",
         "unknown",
         "unknown",
         null,
         "unknown",
         "unknown",
         "unknown",
         "unknown",
         "320",
         "near colorless"
        ],
        [
         "228",
         "228",
         "Round",
         "F",
         "SI3",
         "0.24",
         "Very Good",
         "IGI",
         "Very Good",
         "Very Good",
         "unknown",
         "unknown",
         "unknown",
         "0.0",
         "0.0",
         "0.0",
         "0.0",
         "0.0",
         "unknown",
         "unknown",
         "unknown",
         null,
         "unknown",
         "unknown",
         "unknown",
         "unknown",
         "324",
         "colorless"
        ],
        [
         "304",
         "304",
         "Round",
         "H",
         "SI3",
         "0.27",
         "Very Good",
         "IGI",
         "Very Good",
         "Very Good",
         "unknown",
         "unknown",
         "unknown",
         "0.0",
         "0.0",
         "0.0",
         "0.0",
         "0.0",
         "unknown",
         "unknown",
         "unknown",
         null,
         "unknown",
         "unknown",
         "unknown",
         "unknown",
         "334",
         "near colorless"
        ],
        [
         "405",
         "405",
         "Round",
         "H",
         "SI3",
         "0.29",
         "Very Good",
         "IGI",
         "Very Good",
         "Very Good",
         "unknown",
         "unknown",
         "unknown",
         "0.0",
         "0.0",
         "0.0",
         "0.0",
         "0.0",
         "unknown",
         "unknown",
         "unknown",
         null,
         "unknown",
         "unknown",
         "unknown",
         "unknown",
         "358",
         "near colorless"
        ],
        [
         "406",
         "406",
         "Round",
         "H",
         "SI3",
         "0.29",
         "Very Good",
         "IGI",
         "Very Good",
         "Very Good",
         "unknown",
         "unknown",
         "unknown",
         "0.0",
         "0.0",
         "0.0",
         "0.0",
         "0.0",
         "unknown",
         "unknown",
         "unknown",
         null,
         "unknown",
         "unknown",
         "unknown",
         "unknown",
         "358",
         "near colorless"
        ],
        [
         "9791",
         "9791",
         "Round",
         "G",
         "SI3",
         "0.3",
         "Very Good",
         "IGI",
         "Very Good",
         "Very Good",
         "unknown",
         "unknown",
         "unknown",
         "0.0",
         "0.0",
         "0.0",
         "0.0",
         "0.0",
         "unknown",
         "unknown",
         "unknown",
         null,
         "unknown",
         "unknown",
         "unknown",
         "unknown",
         "630",
         "near colorless"
        ],
        [
         "19407",
         "19407",
         "Round",
         "F",
         "SI3",
         "0.32",
         "Very Good",
         "IGI",
         "Very Good",
         "Very Good",
         "unknown",
         "unknown",
         "unknown",
         "0.0",
         "0.0",
         "0.0",
         "0.0",
         "0.0",
         "unknown",
         "unknown",
         "unknown",
         null,
         "unknown",
         "unknown",
         "unknown",
         "unknown",
         "720",
         "colorless"
        ]
       ],
       "shape": {
        "columns": 27,
        "rows": 10
       }
      },
      "text/html": [
       "<div>\n",
       "<style scoped>\n",
       "    .dataframe tbody tr th:only-of-type {\n",
       "        vertical-align: middle;\n",
       "    }\n",
       "\n",
       "    .dataframe tbody tr th {\n",
       "        vertical-align: top;\n",
       "    }\n",
       "\n",
       "    .dataframe thead th {\n",
       "        text-align: right;\n",
       "    }\n",
       "</style>\n",
       "<table border=\"1\" class=\"dataframe\">\n",
       "  <thead>\n",
       "    <tr style=\"text-align: right;\">\n",
       "      <th></th>\n",
       "      <th>Unnamed: 0</th>\n",
       "      <th>cut</th>\n",
       "      <th>color</th>\n",
       "      <th>clarity</th>\n",
       "      <th>carat_weight</th>\n",
       "      <th>cut_quality</th>\n",
       "      <th>lab</th>\n",
       "      <th>symmetry</th>\n",
       "      <th>polish</th>\n",
       "      <th>eye_clean</th>\n",
       "      <th>...</th>\n",
       "      <th>girdle_min</th>\n",
       "      <th>girdle_max</th>\n",
       "      <th>fluor_color</th>\n",
       "      <th>fluor_intensity</th>\n",
       "      <th>fancy_color_dominant_color</th>\n",
       "      <th>fancy_color_secondary_color</th>\n",
       "      <th>fancy_color_overtone</th>\n",
       "      <th>fancy_color_intensity</th>\n",
       "      <th>total_sales_price</th>\n",
       "      <th>color_scale</th>\n",
       "    </tr>\n",
       "  </thead>\n",
       "  <tbody>\n",
       "    <tr>\n",
       "      <th>130</th>\n",
       "      <td>130</td>\n",
       "      <td>Round</td>\n",
       "      <td>H</td>\n",
       "      <td>SI3</td>\n",
       "      <td>0.23</td>\n",
       "      <td>Very Good</td>\n",
       "      <td>IGI</td>\n",
       "      <td>Very Good</td>\n",
       "      <td>Very Good</td>\n",
       "      <td>unknown</td>\n",
       "      <td>...</td>\n",
       "      <td>unknown</td>\n",
       "      <td>unknown</td>\n",
       "      <td>unknown</td>\n",
       "      <td>NaN</td>\n",
       "      <td>unknown</td>\n",
       "      <td>unknown</td>\n",
       "      <td>unknown</td>\n",
       "      <td>unknown</td>\n",
       "      <td>284</td>\n",
       "      <td>near colorless</td>\n",
       "    </tr>\n",
       "    <tr>\n",
       "      <th>149</th>\n",
       "      <td>149</td>\n",
       "      <td>Round</td>\n",
       "      <td>H</td>\n",
       "      <td>SI3</td>\n",
       "      <td>0.24</td>\n",
       "      <td>Very Good</td>\n",
       "      <td>IGI</td>\n",
       "      <td>Very Good</td>\n",
       "      <td>Very Good</td>\n",
       "      <td>unknown</td>\n",
       "      <td>...</td>\n",
       "      <td>unknown</td>\n",
       "      <td>unknown</td>\n",
       "      <td>unknown</td>\n",
       "      <td>NaN</td>\n",
       "      <td>unknown</td>\n",
       "      <td>unknown</td>\n",
       "      <td>unknown</td>\n",
       "      <td>unknown</td>\n",
       "      <td>296</td>\n",
       "      <td>near colorless</td>\n",
       "    </tr>\n",
       "    <tr>\n",
       "      <th>171</th>\n",
       "      <td>171</td>\n",
       "      <td>Round</td>\n",
       "      <td>H</td>\n",
       "      <td>SI3</td>\n",
       "      <td>0.25</td>\n",
       "      <td>Very Good</td>\n",
       "      <td>IGI</td>\n",
       "      <td>Very Good</td>\n",
       "      <td>Very Good</td>\n",
       "      <td>unknown</td>\n",
       "      <td>...</td>\n",
       "      <td>unknown</td>\n",
       "      <td>unknown</td>\n",
       "      <td>unknown</td>\n",
       "      <td>NaN</td>\n",
       "      <td>unknown</td>\n",
       "      <td>unknown</td>\n",
       "      <td>unknown</td>\n",
       "      <td>unknown</td>\n",
       "      <td>308</td>\n",
       "      <td>near colorless</td>\n",
       "    </tr>\n",
       "    <tr>\n",
       "      <th>212</th>\n",
       "      <td>212</td>\n",
       "      <td>Round</td>\n",
       "      <td>H</td>\n",
       "      <td>SI3</td>\n",
       "      <td>0.26</td>\n",
       "      <td>Very Good</td>\n",
       "      <td>IGI</td>\n",
       "      <td>Very Good</td>\n",
       "      <td>Very Good</td>\n",
       "      <td>unknown</td>\n",
       "      <td>...</td>\n",
       "      <td>unknown</td>\n",
       "      <td>unknown</td>\n",
       "      <td>unknown</td>\n",
       "      <td>NaN</td>\n",
       "      <td>unknown</td>\n",
       "      <td>unknown</td>\n",
       "      <td>unknown</td>\n",
       "      <td>unknown</td>\n",
       "      <td>320</td>\n",
       "      <td>near colorless</td>\n",
       "    </tr>\n",
       "    <tr>\n",
       "      <th>228</th>\n",
       "      <td>228</td>\n",
       "      <td>Round</td>\n",
       "      <td>F</td>\n",
       "      <td>SI3</td>\n",
       "      <td>0.24</td>\n",
       "      <td>Very Good</td>\n",
       "      <td>IGI</td>\n",
       "      <td>Very Good</td>\n",
       "      <td>Very Good</td>\n",
       "      <td>unknown</td>\n",
       "      <td>...</td>\n",
       "      <td>unknown</td>\n",
       "      <td>unknown</td>\n",
       "      <td>unknown</td>\n",
       "      <td>NaN</td>\n",
       "      <td>unknown</td>\n",
       "      <td>unknown</td>\n",
       "      <td>unknown</td>\n",
       "      <td>unknown</td>\n",
       "      <td>324</td>\n",
       "      <td>colorless</td>\n",
       "    </tr>\n",
       "    <tr>\n",
       "      <th>304</th>\n",
       "      <td>304</td>\n",
       "      <td>Round</td>\n",
       "      <td>H</td>\n",
       "      <td>SI3</td>\n",
       "      <td>0.27</td>\n",
       "      <td>Very Good</td>\n",
       "      <td>IGI</td>\n",
       "      <td>Very Good</td>\n",
       "      <td>Very Good</td>\n",
       "      <td>unknown</td>\n",
       "      <td>...</td>\n",
       "      <td>unknown</td>\n",
       "      <td>unknown</td>\n",
       "      <td>unknown</td>\n",
       "      <td>NaN</td>\n",
       "      <td>unknown</td>\n",
       "      <td>unknown</td>\n",
       "      <td>unknown</td>\n",
       "      <td>unknown</td>\n",
       "      <td>334</td>\n",
       "      <td>near colorless</td>\n",
       "    </tr>\n",
       "    <tr>\n",
       "      <th>405</th>\n",
       "      <td>405</td>\n",
       "      <td>Round</td>\n",
       "      <td>H</td>\n",
       "      <td>SI3</td>\n",
       "      <td>0.29</td>\n",
       "      <td>Very Good</td>\n",
       "      <td>IGI</td>\n",
       "      <td>Very Good</td>\n",
       "      <td>Very Good</td>\n",
       "      <td>unknown</td>\n",
       "      <td>...</td>\n",
       "      <td>unknown</td>\n",
       "      <td>unknown</td>\n",
       "      <td>unknown</td>\n",
       "      <td>NaN</td>\n",
       "      <td>unknown</td>\n",
       "      <td>unknown</td>\n",
       "      <td>unknown</td>\n",
       "      <td>unknown</td>\n",
       "      <td>358</td>\n",
       "      <td>near colorless</td>\n",
       "    </tr>\n",
       "    <tr>\n",
       "      <th>406</th>\n",
       "      <td>406</td>\n",
       "      <td>Round</td>\n",
       "      <td>H</td>\n",
       "      <td>SI3</td>\n",
       "      <td>0.29</td>\n",
       "      <td>Very Good</td>\n",
       "      <td>IGI</td>\n",
       "      <td>Very Good</td>\n",
       "      <td>Very Good</td>\n",
       "      <td>unknown</td>\n",
       "      <td>...</td>\n",
       "      <td>unknown</td>\n",
       "      <td>unknown</td>\n",
       "      <td>unknown</td>\n",
       "      <td>NaN</td>\n",
       "      <td>unknown</td>\n",
       "      <td>unknown</td>\n",
       "      <td>unknown</td>\n",
       "      <td>unknown</td>\n",
       "      <td>358</td>\n",
       "      <td>near colorless</td>\n",
       "    </tr>\n",
       "    <tr>\n",
       "      <th>9791</th>\n",
       "      <td>9791</td>\n",
       "      <td>Round</td>\n",
       "      <td>G</td>\n",
       "      <td>SI3</td>\n",
       "      <td>0.30</td>\n",
       "      <td>Very Good</td>\n",
       "      <td>IGI</td>\n",
       "      <td>Very Good</td>\n",
       "      <td>Very Good</td>\n",
       "      <td>unknown</td>\n",
       "      <td>...</td>\n",
       "      <td>unknown</td>\n",
       "      <td>unknown</td>\n",
       "      <td>unknown</td>\n",
       "      <td>NaN</td>\n",
       "      <td>unknown</td>\n",
       "      <td>unknown</td>\n",
       "      <td>unknown</td>\n",
       "      <td>unknown</td>\n",
       "      <td>630</td>\n",
       "      <td>near colorless</td>\n",
       "    </tr>\n",
       "    <tr>\n",
       "      <th>19407</th>\n",
       "      <td>19407</td>\n",
       "      <td>Round</td>\n",
       "      <td>F</td>\n",
       "      <td>SI3</td>\n",
       "      <td>0.32</td>\n",
       "      <td>Very Good</td>\n",
       "      <td>IGI</td>\n",
       "      <td>Very Good</td>\n",
       "      <td>Very Good</td>\n",
       "      <td>unknown</td>\n",
       "      <td>...</td>\n",
       "      <td>unknown</td>\n",
       "      <td>unknown</td>\n",
       "      <td>unknown</td>\n",
       "      <td>NaN</td>\n",
       "      <td>unknown</td>\n",
       "      <td>unknown</td>\n",
       "      <td>unknown</td>\n",
       "      <td>unknown</td>\n",
       "      <td>720</td>\n",
       "      <td>colorless</td>\n",
       "    </tr>\n",
       "  </tbody>\n",
       "</table>\n",
       "<p>10 rows × 27 columns</p>\n",
       "</div>"
      ],
      "text/plain": [
       "       Unnamed: 0    cut color clarity  carat_weight cut_quality  lab  \\\n",
       "130           130  Round     H     SI3          0.23   Very Good  IGI   \n",
       "149           149  Round     H     SI3          0.24   Very Good  IGI   \n",
       "171           171  Round     H     SI3          0.25   Very Good  IGI   \n",
       "212           212  Round     H     SI3          0.26   Very Good  IGI   \n",
       "228           228  Round     F     SI3          0.24   Very Good  IGI   \n",
       "304           304  Round     H     SI3          0.27   Very Good  IGI   \n",
       "405           405  Round     H     SI3          0.29   Very Good  IGI   \n",
       "406           406  Round     H     SI3          0.29   Very Good  IGI   \n",
       "9791         9791  Round     G     SI3          0.30   Very Good  IGI   \n",
       "19407       19407  Round     F     SI3          0.32   Very Good  IGI   \n",
       "\n",
       "        symmetry     polish eye_clean  ... girdle_min girdle_max  fluor_color  \\\n",
       "130    Very Good  Very Good   unknown  ...    unknown    unknown      unknown   \n",
       "149    Very Good  Very Good   unknown  ...    unknown    unknown      unknown   \n",
       "171    Very Good  Very Good   unknown  ...    unknown    unknown      unknown   \n",
       "212    Very Good  Very Good   unknown  ...    unknown    unknown      unknown   \n",
       "228    Very Good  Very Good   unknown  ...    unknown    unknown      unknown   \n",
       "304    Very Good  Very Good   unknown  ...    unknown    unknown      unknown   \n",
       "405    Very Good  Very Good   unknown  ...    unknown    unknown      unknown   \n",
       "406    Very Good  Very Good   unknown  ...    unknown    unknown      unknown   \n",
       "9791   Very Good  Very Good   unknown  ...    unknown    unknown      unknown   \n",
       "19407  Very Good  Very Good   unknown  ...    unknown    unknown      unknown   \n",
       "\n",
       "       fluor_intensity  fancy_color_dominant_color  \\\n",
       "130                NaN                     unknown   \n",
       "149                NaN                     unknown   \n",
       "171                NaN                     unknown   \n",
       "212                NaN                     unknown   \n",
       "228                NaN                     unknown   \n",
       "304                NaN                     unknown   \n",
       "405                NaN                     unknown   \n",
       "406                NaN                     unknown   \n",
       "9791               NaN                     unknown   \n",
       "19407              NaN                     unknown   \n",
       "\n",
       "       fancy_color_secondary_color  fancy_color_overtone  \\\n",
       "130                        unknown               unknown   \n",
       "149                        unknown               unknown   \n",
       "171                        unknown               unknown   \n",
       "212                        unknown               unknown   \n",
       "228                        unknown               unknown   \n",
       "304                        unknown               unknown   \n",
       "405                        unknown               unknown   \n",
       "406                        unknown               unknown   \n",
       "9791                       unknown               unknown   \n",
       "19407                      unknown               unknown   \n",
       "\n",
       "      fancy_color_intensity total_sales_price     color_scale  \n",
       "130                 unknown               284  near colorless  \n",
       "149                 unknown               296  near colorless  \n",
       "171                 unknown               308  near colorless  \n",
       "212                 unknown               320  near colorless  \n",
       "228                 unknown               324       colorless  \n",
       "304                 unknown               334  near colorless  \n",
       "405                 unknown               358  near colorless  \n",
       "406                 unknown               358  near colorless  \n",
       "9791                unknown               630  near colorless  \n",
       "19407               unknown               720       colorless  \n",
       "\n",
       "[10 rows x 27 columns]"
      ]
     },
     "execution_count": 16,
     "metadata": {},
     "output_type": "execute_result"
    }
   ],
   "source": [
    "df[df['clarity'] == 'SI3']"
   ]
  },
  {
   "cell_type": "markdown",
   "metadata": {},
   "source": [
    "\"You see, if you were to take the same exact (SI3) diamond graded by EGL to GIA, it would most likely receive an I1 or worse grade at GIA. It’s no wonder that GIA or any other major labs around the world won’t recognize SI3 as a clarity grade.\" - https://beyond4cs.com/clarity/si3-grading/\n",
    "\n",
    "\n",
    "\"IGI inflated the qualities in eight of the ten possible grades\"\n",
    "\n",
    "\"IGI has been more lenient in its grading standards than GIA\"\n",
    "\n",
    "We'll do IGI vs GIA comparisons later in the notebook."
   ]
  },
  {
   "cell_type": "code",
   "execution_count": 17,
   "metadata": {},
   "outputs": [],
   "source": [
    "df['clarity'] = df['clarity'].replace('SI3', 'I1')"
   ]
  },
  {
   "cell_type": "code",
   "execution_count": 18,
   "metadata": {},
   "outputs": [
    {
     "data": {
      "text/plain": [
       "clarity\n",
       "SI1     38627\n",
       "VS2     38173\n",
       "VS1     36956\n",
       "SI2     31105\n",
       "VVS2    28985\n",
       "VVS1    27877\n",
       "IF       9974\n",
       "I1       6971\n",
       "I2        944\n",
       "I3         91\n",
       "Name: count, dtype: int64"
      ]
     },
     "execution_count": 18,
     "metadata": {},
     "output_type": "execute_result"
    }
   ],
   "source": [
    "df['clarity'].value_counts()"
   ]
  },
  {
   "cell_type": "code",
   "execution_count": 19,
   "metadata": {},
   "outputs": [],
   "source": [
    "# df['clarity_category'] = df['clarity'].astype('category')\n",
    "# df['clarity_category']= df.clarity_category.cat.set_categories(\n",
    "#     ['I3', 'I2', 'I1', 'SI2', 'SI1', 'VS2', 'VS1', 'VVS2', 'VVS1', 'IF'], ordered=True\n",
    "# )\n",
    "# df.clarity_category"
   ]
  },
  {
   "cell_type": "code",
   "execution_count": 20,
   "metadata": {},
   "outputs": [],
   "source": [
    "def clarity_condition(clarity):\n",
    "    if clarity in ['VVS1', 'VVS2']:\n",
    "        return 'VVS'\n",
    "    elif clarity in ['VS1', 'VS2']:\n",
    "        return 'VS'\n",
    "    elif clarity in ['SI1', 'SI2']:\n",
    "        return 'SI'\n",
    "    elif clarity in ['I1', 'I2', 'I3']:\n",
    "        return 'I'\n",
    "    else:\n",
    "        return 'IF'\n",
    "\n",
    "\n",
    "# df['clarity_scale'] = df['clarity'].apply(clarity_condition)\n",
    "# df['clarity_scale'].value_counts()"
   ]
  },
  {
   "cell_type": "code",
   "execution_count": 21,
   "metadata": {},
   "outputs": [
    {
     "data": {
      "text/plain": [
       "cut_quality\n",
       "Excellent    124861\n",
       "unknown       60607\n",
       "Very Good     34201\n",
       "Good             28\n",
       "Fair              5\n",
       "Ideal             1\n",
       "Name: count, dtype: int64"
      ]
     },
     "execution_count": 21,
     "metadata": {},
     "output_type": "execute_result"
    }
   ],
   "source": [
    "df['cut_quality'].value_counts()"
   ]
  },
  {
   "cell_type": "code",
   "execution_count": 22,
   "metadata": {},
   "outputs": [],
   "source": [
    "# df['cut_quality_category'] = df['cut_quality'].astype('category')\n",
    "# df['cut_quality_category'] = df.cut_quality_category.cat.set_categories(\n",
    "#     ['Fair', 'Good', 'Very Good', 'Excellent', 'Ideal'], ordered=True\n",
    "# )"
   ]
  },
  {
   "cell_type": "code",
   "execution_count": 23,
   "metadata": {},
   "outputs": [
    {
     "data": {
      "text/plain": [
       "lab\n",
       "GIA    200434\n",
       "IGI     15865\n",
       "HRD      3404\n",
       "Name: count, dtype: int64"
      ]
     },
     "execution_count": 23,
     "metadata": {},
     "output_type": "execute_result"
    }
   ],
   "source": [
    "df['lab'].value_counts()"
   ]
  },
  {
   "cell_type": "code",
   "execution_count": 24,
   "metadata": {},
   "outputs": [
    {
     "data": {
      "text/plain": [
       "culet_size\n",
       "N          131899\n",
       "unknown     85740\n",
       "VS           1345\n",
       "S             476\n",
       "M             163\n",
       "L              58\n",
       "SL             14\n",
       "EL              4\n",
       "VL              4\n",
       "Name: count, dtype: int64"
      ]
     },
     "execution_count": 24,
     "metadata": {},
     "output_type": "execute_result"
    }
   ],
   "source": [
    "df['culet_size'].value_counts()"
   ]
  },
  {
   "cell_type": "code",
   "execution_count": 25,
   "metadata": {},
   "outputs": [],
   "source": [
    "# df['culet_size_category'] = df['culet_size'].astype('category')\n",
    "# df['culet_size_category'] = df.culet_size_category.cat.set_categories(\n",
    "#     ['EL', 'VL', 'SL', 'L', 'M', 'S', 'VS', 'N'], ordered=True\n",
    "# )"
   ]
  },
  {
   "cell_type": "code",
   "execution_count": 26,
   "metadata": {},
   "outputs": [
    {
     "data": {
      "text/plain": [
       "culet_condition\n",
       "unknown    204384\n",
       "Pointed     15293\n",
       "Chipped        18\n",
       "Abraded         8\n",
       "Name: count, dtype: int64"
      ]
     },
     "execution_count": 26,
     "metadata": {},
     "output_type": "execute_result"
    }
   ],
   "source": [
    "df['culet_condition'].value_counts()"
   ]
  },
  {
   "cell_type": "markdown",
   "metadata": {},
   "source": [
    "Ideally, a culet should be so small it appears as a pinpoint when viewed from the top, categorized as “None” or “Small” in grading reports. A larger culet can create a visual “hole” or dark spot at the bottom of the diamond, detracting from its overall brilliance and appearance.\n",
    "\n",
    "In GIA's International Diamond Grading System™, culet size is described as None, Very Small, Small, Medium, Slightly Large, Large, Very Large, or Extremely Large."
   ]
  },
  {
   "cell_type": "markdown",
   "metadata": {},
   "source": [
    "### ========================================================================================"
   ]
  },
  {
   "cell_type": "code",
   "execution_count": 27,
   "metadata": {},
   "outputs": [
    {
     "name": "stdout",
     "output_type": "stream",
     "text": [
      "girdle_min\n",
      "unknown    83432\n",
      "M          74421\n",
      "STK        26335\n",
      "TN         16744\n",
      "TK         10353\n",
      "VTK         4471\n",
      "XTK         1981\n",
      "VTN         1650\n",
      "XTN          292\n",
      "STN           24\n",
      "Name: count, dtype: int64\n",
      "girdle_max\n",
      "unknown    84295\n",
      "STK        70440\n",
      "TK         25186\n",
      "M          17977\n",
      "VTK        12638\n",
      "XTK         7647\n",
      "TN          1363\n",
      "VTN          111\n",
      "XTN           34\n",
      "STN           12\n",
      "Name: count, dtype: int64\n"
     ]
    }
   ],
   "source": [
    "print(df['girdle_min'].value_counts())\n",
    "print(df['girdle_max'].value_counts())"
   ]
  },
  {
   "cell_type": "markdown",
   "metadata": {},
   "source": [
    "Ideal girdle thickness should range between Very Thin to Thick.\n",
    "\n",
    "Abbreviations For Girdle thickness:\n",
    "\n",
    "- EXTN, ET, XT, EXN = Extremely Thin\n",
    "- VTN, VT, VETN = Very Thin\n",
    "- T, TN, TH = Thin\n",
    "- M, ME, MD = Medium\n",
    "- STK, ST, SLTK, SLTH = Slightly Thick\n",
    "- T, TK, TH = Thick\n",
    "- VTK, VTH, VETK, VET = Very Thick\n",
    "- ET, EXTK, XT, XTK = Extremely Thick\n",
    "- F, FA, FAC = Faceted\n",
    "- S, SM = Smooth\n",
    "- P, PO = Polished"
   ]
  },
  {
   "cell_type": "code",
   "execution_count": 28,
   "metadata": {},
   "outputs": [],
   "source": [
    "girdle_thickness_scale = ['XTN', 'VTN', 'TN', 'STN', 'M', 'STK', 'TK', 'VTK', 'XTK']\n",
    "\n",
    "# create_categories('girdle_min', girdle_thickness_scale)\n",
    "# create_categories('girdle_max', girdle_thickness_scale)"
   ]
  },
  {
   "cell_type": "code",
   "execution_count": 29,
   "metadata": {},
   "outputs": [
    {
     "data": {
      "text/plain": [
       "count    219703.000000\n",
       "mean         61.683768\n",
       "std           9.915266\n",
       "min           0.000000\n",
       "25%          61.200000\n",
       "50%          62.400000\n",
       "75%          63.500000\n",
       "max          98.700000\n",
       "Name: depth_percent, dtype: float64"
      ]
     },
     "execution_count": 29,
     "metadata": {},
     "output_type": "execute_result"
    }
   ],
   "source": [
    "df['depth_percent'].describe()"
   ]
  },
  {
   "cell_type": "markdown",
   "metadata": {},
   "source": [
    "Depth and Table percent:\n",
    "<!---\n",
    "Graders calculate it by dividing the average girdle diameter (the width of the diamond) by the table to culet length (or height) of the diamond and multiplying it by one hundred. Ideally, the total depth percentage should range from 57.5 to 63%.\n",
    "\n",
    "For a round diamond, an ideal depth percentage is between 59 and 62.6 percent and for a princess cut look for a diamond with a depth of 68 to 74 percent.\n",
    "\n",
    "The ideal table percentage varies by shape. For a round cut diamond, an excellent table range is 54 and 57 and for a princess cut a table range of 69 to 75 percent of the width of the diamond is recommended.\n",
    "\n",
    "TABLE:\n",
    "- the table of a diamond is graded from poor to excellent, depending on its quality.\n",
    "- For a round cut diamond, an excellent table range is 54 and 57 percent. \n",
    "A very good cut can have the table of 52 to 53 percent or 58 to 60 percent.\n",
    "- For a princess cut diamond, an ideal table takes up 69 to 75 percent of the width of the diamond. A very good cut can be between 56 to 67 percent or 75 to 76 percent.\n",
    "\n",
    "- For an asscher cut or emerald cut diamond, an ideal table takes up 60 to 68 percent of the width of the diamond. \n",
    "- For an oval cut diamond, an ideal table is between 53 and 63 percent. \n",
    "- For a pear shape diamond, an ideal table size is 53 to 65 percent.\n",
    "- For a radiant cut diamond, an ideal table size is between 61 to 69 percent. \n",
    "- For a heart shape diamond, check for an ideal table that’s between 56 and 62 percent of the diamond’s total width.\n",
    "- For a marquise diamond, an ideal table takes up 53 to 63 percent of the width of the diamond. A very good cut can be between 52 and 64 to 65 percent.\n",
    "\n",
    "DEPTH:\n",
    "- For a round diamond, an ideal depth percentage is between 59 and 62.6 percent\n",
    "- For a princess cut diamond, choose a diamond with an ideal depth of 68 to 74 percent.\n",
    "- For a cushion cut diamond, look for an ideal depth that’s between 61 and 68 percent.\n",
    "- For an Asscher or Emerald cut diamond, an ideal depth is between 61 to 68 percent.\n",
    "- For an oval cut diamond, an ideal depth is less than 68 percent.\n",
    "- For a pear shape diamond, an ideal diamond’s depth is less than 68 percent.\n",
    "- For a radiant cut diamond, an ideal depth is less than 67 percent.\n",
    "- For a heart shape diamond, make sure to choose a diamond with an ideal depth of 56 to 62 percent.\n",
    "- For a marquise diamond, an ideal depth range is between 58 and 62 percent of the total width of the diamond, while a very good cut will have a depth range of 56 to 57.9 or 62.1 to 66 percent.\n",
    ">"
   ]
  },
  {
   "cell_type": "markdown",
   "metadata": {},
   "source": [
    "### ========================================================================================"
   ]
  },
  {
   "cell_type": "code",
   "execution_count": 30,
   "metadata": {},
   "outputs": [
    {
     "data": {
      "text/plain": [
       "eye_clean\n",
       "unknown       156916\n",
       "Yes            61931\n",
       "Borderline       515\n",
       "E1               300\n",
       "No                41\n",
       "Name: count, dtype: int64"
      ]
     },
     "execution_count": 30,
     "metadata": {},
     "output_type": "execute_result"
    }
   ],
   "source": [
    "df['eye_clean'].value_counts()"
   ]
  },
  {
   "cell_type": "code",
   "execution_count": 31,
   "metadata": {},
   "outputs": [],
   "source": [
    "# df['eye_clean_category'] = df['eye_clean'].astype('category')\n",
    "# df['eye_clean_category'] = df.eye_clean_category.cat.set_categories(\n",
    "#     ['No', 'Borderline', 'E1', 'Yes'], ordered=True)"
   ]
  },
  {
   "cell_type": "markdown",
   "metadata": {},
   "source": [
    "The term “eye-clean” is not an official grading; rather, it’s a subjective assessment that can vary from person to person based on their eyesight and the lighting conditions.\n",
    "\n",
    "If it’s a VVS, FL or IF diamond, you’re paying too much for clarity (unless you’re going for a diamond over 3 carats, then a VVS might be your best value). These are the higher grades, and you can almost always find an eye-clean diamond for less. On the other hand, I1-I3 diamonds are simply too included to be eye-clean in any carat weight above 0.4ct.\n",
    "\n",
    "While a better clarity graded diamond might seem like the best choice, it isn’t worth the cost. A higher graded diamond will look identical to a lower graded diamond as long as they’re both eye-clean.\n",
    "\n",
    "- Round Cut and Princess Cut: For 2 carat diamonds and smaller, VS2 and SI1 diamonds are almost always eye-clean (sometimes even SI2s for a round cut). For diamonds over 2 carats, VS1s and VS2s are eye-clean. When your carat weight gets over 3 carats, you may have to look at VVS2 diamonds to get an eye-clean stone. The bigger the diamond (carat weight can play a role), the easier it is to see imperfections.\n",
    "\n",
    "- Cushion Cut, Oval Cut, Radiant Cut, Marquise and Pear-Shaped: These diamond shapes hide inclusions better than others. Opt for an SI1 or SI2 for the best value.\n",
    "\n",
    "- Heart-Shaped: VS2 and SI1 heart shape diamonds will be eye-clean and offer you the most for your budget. They hide inclusions better than Round Cuts and Princess Cuts, but not as well as shapes like the cushion cut.\n",
    "\n",
    "- Emerald cut, asscher cut and baguette: It’s easier to see imperfections in step cut diamonds. Aim for a VS2 in these shapes for the best value."
   ]
  },
  {
   "cell_type": "markdown",
   "metadata": {},
   "source": [
    "### =================================================================================="
   ]
  },
  {
   "cell_type": "code",
   "execution_count": 32,
   "metadata": {},
   "outputs": [
    {
     "name": "stdout",
     "output_type": "stream",
     "text": [
      "polish\n",
      "Excellent    175806\n",
      "Very Good     42323\n",
      "Good           1565\n",
      "Fair              7\n",
      "Poor              2\n",
      "Name: count, dtype: int64 \n",
      "\n",
      "symmetry\n",
      "Excellent    131619\n",
      "Very Good     83143\n",
      "Good           4609\n",
      "Fair            325\n",
      "Poor              7\n",
      "Name: count, dtype: int64 \n",
      "\n",
      "fluor_intensity\n",
      "Faint          38302\n",
      "Medium         20705\n",
      "Strong         13243\n",
      "Very Slight     2729\n",
      "Very Strong     1093\n",
      "unknown          128\n",
      "Slight            12\n",
      "Name: count, dtype: int64 \n",
      "\n",
      "fluor_color\n",
      "unknown    203977\n",
      "Blue        15219\n",
      "Yellow        400\n",
      "Green          55\n",
      "White          42\n",
      "Orange         10\n",
      "Name: count, dtype: int64\n"
     ]
    }
   ],
   "source": [
    "print(df['polish'].value_counts(), '\\n')\n",
    "print(df['symmetry'].value_counts(), '\\n')\n",
    "print(df['fluor_intensity'].value_counts(), '\\n')\n",
    "print(df['fluor_color'].value_counts())"
   ]
  },
  {
   "cell_type": "code",
   "execution_count": 33,
   "metadata": {},
   "outputs": [],
   "source": [
    "symmetry_labels = ['Poor', 'Fair', 'Good', 'Very Good', 'Excellent']\n",
    "\n",
    "# create_categories('polish', symmetry_labels)\n",
    "# create_categories('symmetry', symmetry_labels)"
   ]
  },
  {
   "cell_type": "markdown",
   "metadata": {},
   "source": [
    "When diamonds have Slight or Faint Fluorescence from GIA, for example, they don’t appear cloudy. In fact, the slight fluorescence can make the diamond appear more white. But when fluorescence makes the diamond hazy, the stone is less transparent. Light won’t reflect as well and the diamond won’t be as clear or beautiful. \n",
    "\n",
    "Here are explanations of when fluorescence can lower a diamond’s quality:\n",
    "\n",
    "- Strong or very strong blue fluorescence: These diamonds usually appear hazy or cloudy.\n",
    "- Medium blue fluorescence with a high color grade (G or better): These diamonds also usually appear milky or hazy.\n",
    "- D color, E color and F color diamonds with any fluorescence:\n",
    "Diamonds in the colorless range (D-F) don’t benefit from fluorescence. They’re actually less desirable and therefore less valuable, which lowers the diamond price per carat."
   ]
  },
  {
   "cell_type": "markdown",
   "metadata": {},
   "source": [
    "### ===================================================================================="
   ]
  },
  {
   "cell_type": "code",
   "execution_count": 34,
   "metadata": {},
   "outputs": [
    {
     "data": {
      "text/plain": [
       "count    2.197030e+05\n",
       "mean     6.908062e+03\n",
       "std      2.595949e+04\n",
       "min      2.000000e+02\n",
       "25%      9.580000e+02\n",
       "50%      1.970000e+03\n",
       "75%      5.207000e+03\n",
       "max      1.449881e+06\n",
       "Name: total_sales_price, dtype: float64"
      ]
     },
     "execution_count": 34,
     "metadata": {},
     "output_type": "execute_result"
    }
   ],
   "source": [
    "\n",
    "df['total_sales_price'].describe()"
   ]
  }
 ],
 "metadata": {
  "kernelspec": {
   "display_name": "pybasics",
   "language": "python",
   "name": "python3"
  },
  "language_info": {
   "codemirror_mode": {
    "name": "ipython",
    "version": 3
   },
   "file_extension": ".py",
   "mimetype": "text/x-python",
   "name": "python",
   "nbconvert_exporter": "python",
   "pygments_lexer": "ipython3",
   "version": "3.10.14"
  }
 },
 "nbformat": 4,
 "nbformat_minor": 2
}
